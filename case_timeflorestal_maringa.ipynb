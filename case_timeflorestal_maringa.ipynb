{
  "nbformat": 4,
  "nbformat_minor": 0,
  "metadata": {
    "colab": {
      "name": "case_timeflorestal_maringa",
      "provenance": [],
      "collapsed_sections": [],
      "authorship_tag": "ABX9TyM70W0fnvjW9iVinMkGD3Y4",
      "include_colab_link": true
    },
    "kernelspec": {
      "name": "python3",
      "display_name": "Python 3"
    },
    "language_info": {
      "name": "python"
    }
  },
  "cells": [
    {
      "cell_type": "markdown",
      "metadata": {
        "id": "view-in-github",
        "colab_type": "text"
      },
      "source": [
        "<a href=\"https://colab.research.google.com/github/brunodleite/case_maringa/blob/main/case_timeflorestal_maringa.ipynb\" target=\"_parent\"><img src=\"https://colab.research.google.com/assets/colab-badge.svg\" alt=\"Open In Colab\"/></a>"
      ]
    },
    {
      "cell_type": "markdown",
      "source": [
        "# O relatório está disponível na plataforma gratuita do Tableau no link abaixo.\n",
        "\n",
        "## [Relatório Maringá - Tableau](https://public.tableau.com/views/case_maring/RelatrioMaring?:language=en-US&publish=yes&:display_count=n&:origin=viz_share_link)"
      ],
      "metadata": {
        "id": "U0wTNrMjU5eo"
      }
    },
    {
      "cell_type": "markdown",
      "source": [
        "# Importando as bibliotecas"
      ],
      "metadata": {
        "id": "KC2-GpzxSeHx"
      }
    },
    {
      "cell_type": "code",
      "execution_count": 3,
      "metadata": {
        "id": "IX-ZbvcuQlr3"
      },
      "outputs": [],
      "source": [
        "#import das bibliotecas\n",
        "import pandas as pd\n",
        "import numpy as np\n",
        "import matplotlib.pyplot as plt\n",
        "import seaborn as sns"
      ]
    },
    {
      "cell_type": "markdown",
      "source": [
        "# Obtenção dos dados"
      ],
      "metadata": {
        "id": "TTE5AWCaRbeO"
      }
    },
    {
      "cell_type": "markdown",
      "source": [
        "<center><img alt=\"Grupo Maringá\" width=\"10%\" src=\"https://media-exp1.licdn.com/dms/image/C4E0BAQEM2Z0TGPYnBA/company-logo_200_200/0/1574102737485?e=2159024400&v=beta&t=wkvpUzlPGVxUmqpMVOaam9QM7_MhcAWNuHCJnVUgKvM\"></center>\n",
        "\n",
        "Os dados utlizados neste case foram obtidos através do **Time Florestal** da empresa **Maringá Ferro Liga S/**A. O time é responsável pela gestão das florestas plantadas e produção de biorredutores utilizados como matéria prima da companhia para fabricação de ferro ligas, contando com uma ampla rede de informações desde o plantio e acompanhamento das florestas, corte, transporte e carbonização da madeira para produção de biorredutores. \n",
        "\n",
        "Algumas fontes de pesquisa: \n",
        "\n",
        "*   [Fonte 1](https://www.scielo.br/j/rarv/a/jWfkNZsRWMqMrNbDbbtzz4g/?format=pdf&lang=pt)\n",
        "*   [Fonte 2](https://www.viflona.com.br/p/beneficial-book/)\n",
        "*   [Fonte 3](https://revistas.ufpr.br/biofix/article/view/67394)\n",
        "*   [Fonte 4](https://edisciplinas.usp.br/pluginfile.php/3114315/mod_resource/content/1/energia%20%20sid%202017.pdf)\n",
        "\n",
        "\n",
        "\n",
        "\n",
        "Para análise inicial, foi utilizado os dados disponibilizados pela empresa:\n",
        "\n",
        "\n",
        "*   base_de_dados.xlsx\n",
        "\n"
      ],
      "metadata": {
        "id": "SgSxGK6lSznw"
      }
    },
    {
      "cell_type": "code",
      "source": [
        "dados = \"base_de_dados.xlsx\"\n",
        "df = pd.read_excel(dados)"
      ],
      "metadata": {
        "id": "vWPDjyZfTT0F"
      },
      "execution_count": 4,
      "outputs": []
    },
    {
      "cell_type": "markdown",
      "source": [
        "# Análise dos dados\n"
      ],
      "metadata": {
        "id": "qFpHnAhUUDE3"
      }
    },
    {
      "cell_type": "markdown",
      "source": [
        "**Dicionário das variáveis**\n",
        "\n",
        "\n",
        "*   `Data`\n",
        "*   `UPR` - Unidade de produção de Bio-Redutor\n",
        "*   `Fazenda` - Localização das fazendas com plantações de árvores\n",
        "*   `Talhão` - Área subdividida de *n* árvores\n",
        "*   `Espécie` - Espécie da árvore\n",
        "*   `Idade` - Idade da árvore\n",
        "*   `Dias de secagem` - Quantidade de dias de secagem ao ar livre\n",
        "*   `Madeira` - Volume (m³) \n",
        "*   `Tiço Enfornado` - Pedaços de madeira não transformado em carvão dentro do forno (m³)\n",
        "*   `Tiço Gerado` - Pedaços de madeira não transformado em carvão após o processo (m³)\n",
        "*   `Produção` - Produção de bio-redutor em (toneladas)\n",
        "*   `Densidade` - Densidade da madeira* \n",
        "*   `Finos` - Resíduo pós processo\n",
        "*    `Umidade` - Umidade da madeira*\n",
        "*    `CF` - Porcentagem de Carbono Fixo\n",
        "\n",
        "\n"
      ],
      "metadata": {
        "id": "WeDEtt9YPmQW"
      }
    },
    {
      "cell_type": "markdown",
      "source": [
        "Antes de iniciar a análise, vamos verificar de modo aleatório, como algumas entradas do dataset estão dispostas."
      ],
      "metadata": {
        "id": "B9mx8FBh1Le6"
      }
    },
    {
      "cell_type": "code",
      "source": [
        "# Verificando uma amostra aleatória com 10 entradas\n",
        "df.sample(10)"
      ],
      "metadata": {
        "colab": {
          "base_uri": "https://localhost:8080/",
          "height": 363
        },
        "id": "qB_CEWx-Rnso",
        "outputId": "88bfc01e-2599-4a0d-a57e-7c1646564b35"
      },
      "execution_count": 5,
      "outputs": [
        {
          "output_type": "execute_result",
          "data": {
            "text/html": [
              "\n",
              "  <div id=\"df-cfde5512-2512-45fe-aa76-d858f9470209\">\n",
              "    <div class=\"colab-df-container\">\n",
              "      <div>\n",
              "<style scoped>\n",
              "    .dataframe tbody tr th:only-of-type {\n",
              "        vertical-align: middle;\n",
              "    }\n",
              "\n",
              "    .dataframe tbody tr th {\n",
              "        vertical-align: top;\n",
              "    }\n",
              "\n",
              "    .dataframe thead th {\n",
              "        text-align: right;\n",
              "    }\n",
              "</style>\n",
              "<table border=\"1\" class=\"dataframe\">\n",
              "  <thead>\n",
              "    <tr style=\"text-align: right;\">\n",
              "      <th></th>\n",
              "      <th>Data</th>\n",
              "      <th>UPR</th>\n",
              "      <th>Fazenda</th>\n",
              "      <th>Talhão</th>\n",
              "      <th>Espécie</th>\n",
              "      <th>Idade</th>\n",
              "      <th>Dias Secagem</th>\n",
              "      <th>Madeira</th>\n",
              "      <th>Tiço Enfornado</th>\n",
              "      <th>Tiço Gerado</th>\n",
              "      <th>Produção</th>\n",
              "      <th>Densidade</th>\n",
              "      <th>Finos</th>\n",
              "      <th>Umidade</th>\n",
              "      <th>CF %</th>\n",
              "      <th>Comprimento</th>\n",
              "    </tr>\n",
              "  </thead>\n",
              "  <tbody>\n",
              "    <tr>\n",
              "      <th>2463</th>\n",
              "      <td>2020-03-01</td>\n",
              "      <td>Maringá Retangular</td>\n",
              "      <td>Alba</td>\n",
              "      <td>5</td>\n",
              "      <td>Clone Urograndis I 144</td>\n",
              "      <td>8.77</td>\n",
              "      <td>463.0</td>\n",
              "      <td>93.23</td>\n",
              "      <td>4.82</td>\n",
              "      <td>4.32</td>\n",
              "      <td>10.44</td>\n",
              "      <td>248.21</td>\n",
              "      <td>11.09</td>\n",
              "      <td>5.28</td>\n",
              "      <td>82.46</td>\n",
              "      <td>NaN</td>\n",
              "    </tr>\n",
              "    <tr>\n",
              "      <th>2355</th>\n",
              "      <td>2020-02-01</td>\n",
              "      <td>Tamanduá</td>\n",
              "      <td>Fecho</td>\n",
              "      <td>37</td>\n",
              "      <td>Clone Saligna 2864</td>\n",
              "      <td>8.6</td>\n",
              "      <td>202.0</td>\n",
              "      <td>34.95</td>\n",
              "      <td>3.88</td>\n",
              "      <td>4.15</td>\n",
              "      <td>3.77</td>\n",
              "      <td>252.87</td>\n",
              "      <td>11.12</td>\n",
              "      <td>7.11</td>\n",
              "      <td>74.19</td>\n",
              "      <td>NaN</td>\n",
              "    </tr>\n",
              "    <tr>\n",
              "      <th>2217</th>\n",
              "      <td>2020-01-01</td>\n",
              "      <td>Tamanduá</td>\n",
              "      <td>Tamanduá</td>\n",
              "      <td>86</td>\n",
              "      <td>Clone Saligna 2864</td>\n",
              "      <td>9.79</td>\n",
              "      <td>300.0</td>\n",
              "      <td>369.75</td>\n",
              "      <td>49.03</td>\n",
              "      <td>40.33</td>\n",
              "      <td>42.72</td>\n",
              "      <td>265.11</td>\n",
              "      <td>11.56</td>\n",
              "      <td>6.55</td>\n",
              "      <td>77.30</td>\n",
              "      <td>NaN</td>\n",
              "    </tr>\n",
              "    <tr>\n",
              "      <th>1471</th>\n",
              "      <td>2019-08-01</td>\n",
              "      <td>Butiá</td>\n",
              "      <td>butiá</td>\n",
              "      <td>73</td>\n",
              "      <td>Clone Urograndis 2361</td>\n",
              "      <td>7.29</td>\n",
              "      <td>338.0</td>\n",
              "      <td>168.8</td>\n",
              "      <td>18.77</td>\n",
              "      <td>19.95</td>\n",
              "      <td>15.75</td>\n",
              "      <td>238.91</td>\n",
              "      <td>9.69</td>\n",
              "      <td>4.87</td>\n",
              "      <td>77.48</td>\n",
              "      <td>NaN</td>\n",
              "    </tr>\n",
              "    <tr>\n",
              "      <th>1159</th>\n",
              "      <td>2019-07-01</td>\n",
              "      <td>Tamanduá</td>\n",
              "      <td>Fecho</td>\n",
              "      <td>27</td>\n",
              "      <td>Clone Saligna 2864</td>\n",
              "      <td>9.02</td>\n",
              "      <td>93.0</td>\n",
              "      <td>172.48</td>\n",
              "      <td>14.65</td>\n",
              "      <td>21.31</td>\n",
              "      <td>16.41</td>\n",
              "      <td>255.53</td>\n",
              "      <td>10.82</td>\n",
              "      <td>6.15</td>\n",
              "      <td>80.36</td>\n",
              "      <td>NaN</td>\n",
              "    </tr>\n",
              "    <tr>\n",
              "      <th>580</th>\n",
              "      <td>2019-04-01</td>\n",
              "      <td>Butiá</td>\n",
              "      <td>Butiá</td>\n",
              "      <td>64</td>\n",
              "      <td>-</td>\n",
              "      <td>7.22</td>\n",
              "      <td>447.0</td>\n",
              "      <td>169.43</td>\n",
              "      <td>19.89</td>\n",
              "      <td>16.57</td>\n",
              "      <td>15.30</td>\n",
              "      <td>240.06</td>\n",
              "      <td>9.88</td>\n",
              "      <td>4.38</td>\n",
              "      <td>80.31</td>\n",
              "      <td>NaN</td>\n",
              "    </tr>\n",
              "    <tr>\n",
              "      <th>565</th>\n",
              "      <td>2019-04-01</td>\n",
              "      <td>Tamanduá</td>\n",
              "      <td>Dona Rita</td>\n",
              "      <td>18</td>\n",
              "      <td>-</td>\n",
              "      <td>9.43</td>\n",
              "      <td>268.0</td>\n",
              "      <td>179.57</td>\n",
              "      <td>17.32</td>\n",
              "      <td>14</td>\n",
              "      <td>22.02</td>\n",
              "      <td>255.43</td>\n",
              "      <td>10.66</td>\n",
              "      <td>4.85</td>\n",
              "      <td>77.83</td>\n",
              "      <td>NaN</td>\n",
              "    </tr>\n",
              "    <tr>\n",
              "      <th>3686</th>\n",
              "      <td>2020-11-01</td>\n",
              "      <td>Butiá</td>\n",
              "      <td>Butiá</td>\n",
              "      <td>75</td>\n",
              "      <td>Clone Urograndis 2361</td>\n",
              "      <td>8.34</td>\n",
              "      <td>206.0</td>\n",
              "      <td>159.25</td>\n",
              "      <td>22.9</td>\n",
              "      <td>22.82</td>\n",
              "      <td>18.86</td>\n",
              "      <td>238.84</td>\n",
              "      <td>10.42</td>\n",
              "      <td>5.63</td>\n",
              "      <td>75.93</td>\n",
              "      <td>NaN</td>\n",
              "    </tr>\n",
              "    <tr>\n",
              "      <th>3071</th>\n",
              "      <td>2020-07-01</td>\n",
              "      <td>Butiá</td>\n",
              "      <td>Elizael</td>\n",
              "      <td>Elizael</td>\n",
              "      <td>Diversos</td>\n",
              "      <td>6.92</td>\n",
              "      <td>42.0</td>\n",
              "      <td>68.65</td>\n",
              "      <td>12.73</td>\n",
              "      <td>13.12</td>\n",
              "      <td>8.80</td>\n",
              "      <td>245.82</td>\n",
              "      <td>10.70</td>\n",
              "      <td>4.44</td>\n",
              "      <td>79.69</td>\n",
              "      <td>NaN</td>\n",
              "    </tr>\n",
              "    <tr>\n",
              "      <th>2482</th>\n",
              "      <td>2020-03-01</td>\n",
              "      <td>Tamanduá</td>\n",
              "      <td>Fecho</td>\n",
              "      <td>45</td>\n",
              "      <td>Clone Saligna 2864</td>\n",
              "      <td>8.46</td>\n",
              "      <td>208.0</td>\n",
              "      <td>230.97</td>\n",
              "      <td>35.28</td>\n",
              "      <td>41.28</td>\n",
              "      <td>26.50</td>\n",
              "      <td>254.94</td>\n",
              "      <td>10.39</td>\n",
              "      <td>5.79</td>\n",
              "      <td>77.06</td>\n",
              "      <td>NaN</td>\n",
              "    </tr>\n",
              "  </tbody>\n",
              "</table>\n",
              "</div>\n",
              "      <button class=\"colab-df-convert\" onclick=\"convertToInteractive('df-cfde5512-2512-45fe-aa76-d858f9470209')\"\n",
              "              title=\"Convert this dataframe to an interactive table.\"\n",
              "              style=\"display:none;\">\n",
              "        \n",
              "  <svg xmlns=\"http://www.w3.org/2000/svg\" height=\"24px\"viewBox=\"0 0 24 24\"\n",
              "       width=\"24px\">\n",
              "    <path d=\"M0 0h24v24H0V0z\" fill=\"none\"/>\n",
              "    <path d=\"M18.56 5.44l.94 2.06.94-2.06 2.06-.94-2.06-.94-.94-2.06-.94 2.06-2.06.94zm-11 1L8.5 8.5l.94-2.06 2.06-.94-2.06-.94L8.5 2.5l-.94 2.06-2.06.94zm10 10l.94 2.06.94-2.06 2.06-.94-2.06-.94-.94-2.06-.94 2.06-2.06.94z\"/><path d=\"M17.41 7.96l-1.37-1.37c-.4-.4-.92-.59-1.43-.59-.52 0-1.04.2-1.43.59L10.3 9.45l-7.72 7.72c-.78.78-.78 2.05 0 2.83L4 21.41c.39.39.9.59 1.41.59.51 0 1.02-.2 1.41-.59l7.78-7.78 2.81-2.81c.8-.78.8-2.07 0-2.86zM5.41 20L4 18.59l7.72-7.72 1.47 1.35L5.41 20z\"/>\n",
              "  </svg>\n",
              "      </button>\n",
              "      \n",
              "  <style>\n",
              "    .colab-df-container {\n",
              "      display:flex;\n",
              "      flex-wrap:wrap;\n",
              "      gap: 12px;\n",
              "    }\n",
              "\n",
              "    .colab-df-convert {\n",
              "      background-color: #E8F0FE;\n",
              "      border: none;\n",
              "      border-radius: 50%;\n",
              "      cursor: pointer;\n",
              "      display: none;\n",
              "      fill: #1967D2;\n",
              "      height: 32px;\n",
              "      padding: 0 0 0 0;\n",
              "      width: 32px;\n",
              "    }\n",
              "\n",
              "    .colab-df-convert:hover {\n",
              "      background-color: #E2EBFA;\n",
              "      box-shadow: 0px 1px 2px rgba(60, 64, 67, 0.3), 0px 1px 3px 1px rgba(60, 64, 67, 0.15);\n",
              "      fill: #174EA6;\n",
              "    }\n",
              "\n",
              "    [theme=dark] .colab-df-convert {\n",
              "      background-color: #3B4455;\n",
              "      fill: #D2E3FC;\n",
              "    }\n",
              "\n",
              "    [theme=dark] .colab-df-convert:hover {\n",
              "      background-color: #434B5C;\n",
              "      box-shadow: 0px 1px 3px 1px rgba(0, 0, 0, 0.15);\n",
              "      filter: drop-shadow(0px 1px 2px rgba(0, 0, 0, 0.3));\n",
              "      fill: #FFFFFF;\n",
              "    }\n",
              "  </style>\n",
              "\n",
              "      <script>\n",
              "        const buttonEl =\n",
              "          document.querySelector('#df-cfde5512-2512-45fe-aa76-d858f9470209 button.colab-df-convert');\n",
              "        buttonEl.style.display =\n",
              "          google.colab.kernel.accessAllowed ? 'block' : 'none';\n",
              "\n",
              "        async function convertToInteractive(key) {\n",
              "          const element = document.querySelector('#df-cfde5512-2512-45fe-aa76-d858f9470209');\n",
              "          const dataTable =\n",
              "            await google.colab.kernel.invokeFunction('convertToInteractive',\n",
              "                                                     [key], {});\n",
              "          if (!dataTable) return;\n",
              "\n",
              "          const docLinkHtml = 'Like what you see? Visit the ' +\n",
              "            '<a target=\"_blank\" href=https://colab.research.google.com/notebooks/data_table.ipynb>data table notebook</a>'\n",
              "            + ' to learn more about interactive tables.';\n",
              "          element.innerHTML = '';\n",
              "          dataTable['output_type'] = 'display_data';\n",
              "          await google.colab.output.renderOutput(dataTable, element);\n",
              "          const docLink = document.createElement('div');\n",
              "          docLink.innerHTML = docLinkHtml;\n",
              "          element.appendChild(docLink);\n",
              "        }\n",
              "      </script>\n",
              "    </div>\n",
              "  </div>\n",
              "  "
            ],
            "text/plain": [
              "           Data                 UPR    Fazenda  ... Umidade   CF % Comprimento\n",
              "2463 2020-03-01  Maringá Retangular       Alba  ...    5.28  82.46         NaN\n",
              "2355 2020-02-01            Tamanduá      Fecho  ...    7.11  74.19         NaN\n",
              "2217 2020-01-01            Tamanduá   Tamanduá  ...    6.55  77.30         NaN\n",
              "1471 2019-08-01               Butiá      butiá  ...    4.87  77.48         NaN\n",
              "1159 2019-07-01            Tamanduá      Fecho  ...    6.15  80.36         NaN\n",
              "580  2019-04-01               Butiá      Butiá  ...    4.38  80.31         NaN\n",
              "565  2019-04-01            Tamanduá  Dona Rita  ...    4.85  77.83         NaN\n",
              "3686 2020-11-01               Butiá      Butiá  ...    5.63  75.93         NaN\n",
              "3071 2020-07-01               Butiá    Elizael  ...    4.44  79.69         NaN\n",
              "2482 2020-03-01            Tamanduá      Fecho  ...    5.79  77.06         NaN\n",
              "\n",
              "[10 rows x 16 columns]"
            ]
          },
          "metadata": {},
          "execution_count": 5
        }
      ]
    },
    {
      "cell_type": "markdown",
      "source": [
        "## Verificação das variáveis e entradas que o dataset possui.\n",
        "Nosso dataframe é composto por **16 variáveis** e **3731 entradas**. As variáveis são do tipo: `int64`, `object`, `float64` e `datetime64[ns]`."
      ],
      "metadata": {
        "id": "LB9Bujdp1s8m"
      }
    },
    {
      "cell_type": "code",
      "source": [
        "# identificação do volume de dados do DataFrame\n",
        "print(\"Qtd de variáveis: \\t {}\".format(df.shape[1]))\n",
        "print(\"Qtd de entradas:\\t {}\\n\".format(df.shape[0]))\n",
        "\n",
        "# verificação dos tipos de variáveis que compõe o dataframe\n",
        "display(df.dtypes)"
      ],
      "metadata": {
        "id": "fIa0lX5ST5nr",
        "colab": {
          "base_uri": "https://localhost:8080/",
          "height": 383
        },
        "outputId": "7ff2c3a6-5f6a-4a38-e57e-68263872c319"
      },
      "execution_count": 6,
      "outputs": [
        {
          "output_type": "stream",
          "name": "stdout",
          "text": [
            "Qtd de variáveis: \t 16\n",
            "Qtd de entradas:\t 3731\n",
            "\n"
          ]
        },
        {
          "output_type": "display_data",
          "data": {
            "text/plain": [
              "Data              datetime64[ns]\n",
              "UPR                       object\n",
              "Fazenda                   object\n",
              "Talhão                    object\n",
              "Espécie                   object\n",
              "Idade                     object\n",
              "Dias Secagem             float64\n",
              "Madeira                   object\n",
              "Tiço Enfornado            object\n",
              "Tiço Gerado               object\n",
              "Produção                 float64\n",
              "Densidade                float64\n",
              "Finos                    float64\n",
              "Umidade                  float64\n",
              "CF %                     float64\n",
              "Comprimento               object\n",
              "dtype: object"
            ]
          },
          "metadata": {}
        }
      ]
    },
    {
      "cell_type": "markdown",
      "source": [
        "## Verificação dos valores ausentes"
      ],
      "metadata": {
        "id": "s4fDdHu52t8Y"
      }
    },
    {
      "cell_type": "markdown",
      "source": [
        "Podemos verificar que a variável `Comprimento` possui aproximadamente **97%** de suas entradas ausentes. \n",
        "\n",
        "Em relação às variáveis `Densidade`, `Finos`, `Umidade` e `Dias Secagem` será realizado uma **verificação mais profunda**, devido aos seus valores não possuirem uma quantidade significativa de valores ausentes."
      ],
      "metadata": {
        "id": "YUSijntM3O5l"
      }
    },
    {
      "cell_type": "code",
      "source": [
        "# ordenando em ordem decrescente as variáveis através dos seus valores ausentes\n",
        "(df.isnull().sum() / df.shape[0]).sort_values(ascending=False)"
      ],
      "metadata": {
        "colab": {
          "base_uri": "https://localhost:8080/"
        },
        "id": "69oFk72x18Dp",
        "outputId": "fda91517-d250-4c06-cbd5-5b73b66f653d"
      },
      "execution_count": 7,
      "outputs": [
        {
          "output_type": "execute_result",
          "data": {
            "text/plain": [
              "Comprimento       0.968373\n",
              "Densidade         0.005360\n",
              "Finos             0.005360\n",
              "Umidade           0.005360\n",
              "Dias Secagem      0.000536\n",
              "Data              0.000000\n",
              "UPR               0.000000\n",
              "Fazenda           0.000000\n",
              "Talhão            0.000000\n",
              "Espécie           0.000000\n",
              "Idade             0.000000\n",
              "Madeira           0.000000\n",
              "Tiço Enfornado    0.000000\n",
              "Tiço Gerado       0.000000\n",
              "Produção          0.000000\n",
              "CF %              0.000000\n",
              "dtype: float64"
            ]
          },
          "metadata": {},
          "execution_count": 7
        }
      ]
    },
    {
      "cell_type": "markdown",
      "source": [
        "## Tratamento das entradas da variável `Comprimento`"
      ],
      "metadata": {
        "id": "JozwKQbG63IX"
      }
    },
    {
      "cell_type": "markdown",
      "source": [
        "Realizando algumas verificações nas entradas, desconsiderando os valores NaN. Devido a variável possuir aproximadamente 97% dos valores ausentes, será excluída a coluna inteira para não afetar as análises finais."
      ],
      "metadata": {
        "id": "3u1I8ebl-Cv_"
      }
    },
    {
      "cell_type": "code",
      "source": [
        "# Verificando as 5 primeiras entradas\n",
        "df.Comprimento.head()"
      ],
      "metadata": {
        "colab": {
          "base_uri": "https://localhost:8080/"
        },
        "id": "YybgI6y69lYM",
        "outputId": "e39c16aa-a31c-435c-dd6c-623042dd9c5a"
      },
      "execution_count": 8,
      "outputs": [
        {
          "output_type": "execute_result",
          "data": {
            "text/plain": [
              "0    NaN\n",
              "1    NaN\n",
              "2    NaN\n",
              "3    NaN\n",
              "4    NaN\n",
              "Name: Comprimento, dtype: object"
            ]
          },
          "metadata": {},
          "execution_count": 8
        }
      ]
    },
    {
      "cell_type": "code",
      "source": [
        "# Verificando a quantidade cada valor atribuido, sem consideram os valores NaN\n",
        "df.Comprimento.value_counts()"
      ],
      "metadata": {
        "colab": {
          "base_uri": "https://localhost:8080/"
        },
        "id": "LNysruVd29Wz",
        "outputId": "eb2bfeb7-224e-444d-bce0-b421c8792d7e"
      },
      "execution_count": 9,
      "outputs": [
        {
          "output_type": "execute_result",
          "data": {
            "text/plain": [
              "3                                                                 36\n",
              "3.3                                                               30\n",
              "5                                                                 29\n",
              "3,3m                                                               9\n",
              "5,0m                                                               8\n",
              "5.5                                                                4\n",
              "*Consumo dos fornos de sexta e de quinta que ficaram pata trás     1\n",
              "Estimado                                                           1\n",
              "Name: Comprimento, dtype: int64"
            ]
          },
          "metadata": {},
          "execution_count": 9
        }
      ]
    },
    {
      "cell_type": "code",
      "source": [
        "print(\"Dataframe antes da exclusão da variável Comprimento\\n\")\n",
        "df.head()"
      ],
      "metadata": {
        "colab": {
          "base_uri": "https://localhost:8080/",
          "height": 243
        },
        "id": "nlwXv39m_a9p",
        "outputId": "bd67984b-00ff-4813-aed5-d18b67ee395c"
      },
      "execution_count": 10,
      "outputs": [
        {
          "output_type": "stream",
          "name": "stdout",
          "text": [
            "Dataframe antes da exclusão da variável Comprimento\n",
            "\n"
          ]
        },
        {
          "output_type": "execute_result",
          "data": {
            "text/html": [
              "\n",
              "  <div id=\"df-e472bc99-194a-4d49-a44f-2d367f4ff249\">\n",
              "    <div class=\"colab-df-container\">\n",
              "      <div>\n",
              "<style scoped>\n",
              "    .dataframe tbody tr th:only-of-type {\n",
              "        vertical-align: middle;\n",
              "    }\n",
              "\n",
              "    .dataframe tbody tr th {\n",
              "        vertical-align: top;\n",
              "    }\n",
              "\n",
              "    .dataframe thead th {\n",
              "        text-align: right;\n",
              "    }\n",
              "</style>\n",
              "<table border=\"1\" class=\"dataframe\">\n",
              "  <thead>\n",
              "    <tr style=\"text-align: right;\">\n",
              "      <th></th>\n",
              "      <th>Data</th>\n",
              "      <th>UPR</th>\n",
              "      <th>Fazenda</th>\n",
              "      <th>Talhão</th>\n",
              "      <th>Espécie</th>\n",
              "      <th>Idade</th>\n",
              "      <th>Dias Secagem</th>\n",
              "      <th>Madeira</th>\n",
              "      <th>Tiço Enfornado</th>\n",
              "      <th>Tiço Gerado</th>\n",
              "      <th>Produção</th>\n",
              "      <th>Densidade</th>\n",
              "      <th>Finos</th>\n",
              "      <th>Umidade</th>\n",
              "      <th>CF %</th>\n",
              "      <th>Comprimento</th>\n",
              "    </tr>\n",
              "  </thead>\n",
              "  <tbody>\n",
              "    <tr>\n",
              "      <th>0</th>\n",
              "      <td>2019-01-01</td>\n",
              "      <td>Maringá</td>\n",
              "      <td>Maringá II</td>\n",
              "      <td>67</td>\n",
              "      <td>-</td>\n",
              "      <td>10.66</td>\n",
              "      <td>161.0</td>\n",
              "      <td>476.83</td>\n",
              "      <td>56.1</td>\n",
              "      <td>65.29</td>\n",
              "      <td>61.91</td>\n",
              "      <td>268.82</td>\n",
              "      <td>10.57</td>\n",
              "      <td>5.05</td>\n",
              "      <td>78.03</td>\n",
              "      <td>NaN</td>\n",
              "    </tr>\n",
              "    <tr>\n",
              "      <th>1</th>\n",
              "      <td>2019-01-01</td>\n",
              "      <td>Maringá</td>\n",
              "      <td>Maringá II</td>\n",
              "      <td>67</td>\n",
              "      <td>-</td>\n",
              "      <td>10.66</td>\n",
              "      <td>162.0</td>\n",
              "      <td>483.2</td>\n",
              "      <td>55.4</td>\n",
              "      <td>63.71</td>\n",
              "      <td>61.68</td>\n",
              "      <td>268.82</td>\n",
              "      <td>10.57</td>\n",
              "      <td>5.05</td>\n",
              "      <td>78.03</td>\n",
              "      <td>NaN</td>\n",
              "    </tr>\n",
              "    <tr>\n",
              "      <th>2</th>\n",
              "      <td>2019-01-01</td>\n",
              "      <td>Maringá</td>\n",
              "      <td>Maringá II</td>\n",
              "      <td>67</td>\n",
              "      <td>-</td>\n",
              "      <td>10.66</td>\n",
              "      <td>163.0</td>\n",
              "      <td>487.6</td>\n",
              "      <td>53.5</td>\n",
              "      <td>60</td>\n",
              "      <td>60.39</td>\n",
              "      <td>268.82</td>\n",
              "      <td>10.57</td>\n",
              "      <td>5.05</td>\n",
              "      <td>78.03</td>\n",
              "      <td>NaN</td>\n",
              "    </tr>\n",
              "    <tr>\n",
              "      <th>3</th>\n",
              "      <td>2019-01-01</td>\n",
              "      <td>Maringá</td>\n",
              "      <td>Maringá II</td>\n",
              "      <td>67</td>\n",
              "      <td>-</td>\n",
              "      <td>10.66</td>\n",
              "      <td>166.0</td>\n",
              "      <td>460.27</td>\n",
              "      <td>44.69</td>\n",
              "      <td>46.34</td>\n",
              "      <td>56.49</td>\n",
              "      <td>268.82</td>\n",
              "      <td>10.57</td>\n",
              "      <td>5.05</td>\n",
              "      <td>78.03</td>\n",
              "      <td>NaN</td>\n",
              "    </tr>\n",
              "    <tr>\n",
              "      <th>4</th>\n",
              "      <td>2019-01-01</td>\n",
              "      <td>Maringá</td>\n",
              "      <td>Maringá II</td>\n",
              "      <td>67</td>\n",
              "      <td>-</td>\n",
              "      <td>10.66</td>\n",
              "      <td>167.0</td>\n",
              "      <td>477.35</td>\n",
              "      <td>58.71</td>\n",
              "      <td>66.08</td>\n",
              "      <td>60.00</td>\n",
              "      <td>268.82</td>\n",
              "      <td>10.57</td>\n",
              "      <td>5.05</td>\n",
              "      <td>78.03</td>\n",
              "      <td>NaN</td>\n",
              "    </tr>\n",
              "  </tbody>\n",
              "</table>\n",
              "</div>\n",
              "      <button class=\"colab-df-convert\" onclick=\"convertToInteractive('df-e472bc99-194a-4d49-a44f-2d367f4ff249')\"\n",
              "              title=\"Convert this dataframe to an interactive table.\"\n",
              "              style=\"display:none;\">\n",
              "        \n",
              "  <svg xmlns=\"http://www.w3.org/2000/svg\" height=\"24px\"viewBox=\"0 0 24 24\"\n",
              "       width=\"24px\">\n",
              "    <path d=\"M0 0h24v24H0V0z\" fill=\"none\"/>\n",
              "    <path d=\"M18.56 5.44l.94 2.06.94-2.06 2.06-.94-2.06-.94-.94-2.06-.94 2.06-2.06.94zm-11 1L8.5 8.5l.94-2.06 2.06-.94-2.06-.94L8.5 2.5l-.94 2.06-2.06.94zm10 10l.94 2.06.94-2.06 2.06-.94-2.06-.94-.94-2.06-.94 2.06-2.06.94z\"/><path d=\"M17.41 7.96l-1.37-1.37c-.4-.4-.92-.59-1.43-.59-.52 0-1.04.2-1.43.59L10.3 9.45l-7.72 7.72c-.78.78-.78 2.05 0 2.83L4 21.41c.39.39.9.59 1.41.59.51 0 1.02-.2 1.41-.59l7.78-7.78 2.81-2.81c.8-.78.8-2.07 0-2.86zM5.41 20L4 18.59l7.72-7.72 1.47 1.35L5.41 20z\"/>\n",
              "  </svg>\n",
              "      </button>\n",
              "      \n",
              "  <style>\n",
              "    .colab-df-container {\n",
              "      display:flex;\n",
              "      flex-wrap:wrap;\n",
              "      gap: 12px;\n",
              "    }\n",
              "\n",
              "    .colab-df-convert {\n",
              "      background-color: #E8F0FE;\n",
              "      border: none;\n",
              "      border-radius: 50%;\n",
              "      cursor: pointer;\n",
              "      display: none;\n",
              "      fill: #1967D2;\n",
              "      height: 32px;\n",
              "      padding: 0 0 0 0;\n",
              "      width: 32px;\n",
              "    }\n",
              "\n",
              "    .colab-df-convert:hover {\n",
              "      background-color: #E2EBFA;\n",
              "      box-shadow: 0px 1px 2px rgba(60, 64, 67, 0.3), 0px 1px 3px 1px rgba(60, 64, 67, 0.15);\n",
              "      fill: #174EA6;\n",
              "    }\n",
              "\n",
              "    [theme=dark] .colab-df-convert {\n",
              "      background-color: #3B4455;\n",
              "      fill: #D2E3FC;\n",
              "    }\n",
              "\n",
              "    [theme=dark] .colab-df-convert:hover {\n",
              "      background-color: #434B5C;\n",
              "      box-shadow: 0px 1px 3px 1px rgba(0, 0, 0, 0.15);\n",
              "      filter: drop-shadow(0px 1px 2px rgba(0, 0, 0, 0.3));\n",
              "      fill: #FFFFFF;\n",
              "    }\n",
              "  </style>\n",
              "\n",
              "      <script>\n",
              "        const buttonEl =\n",
              "          document.querySelector('#df-e472bc99-194a-4d49-a44f-2d367f4ff249 button.colab-df-convert');\n",
              "        buttonEl.style.display =\n",
              "          google.colab.kernel.accessAllowed ? 'block' : 'none';\n",
              "\n",
              "        async function convertToInteractive(key) {\n",
              "          const element = document.querySelector('#df-e472bc99-194a-4d49-a44f-2d367f4ff249');\n",
              "          const dataTable =\n",
              "            await google.colab.kernel.invokeFunction('convertToInteractive',\n",
              "                                                     [key], {});\n",
              "          if (!dataTable) return;\n",
              "\n",
              "          const docLinkHtml = 'Like what you see? Visit the ' +\n",
              "            '<a target=\"_blank\" href=https://colab.research.google.com/notebooks/data_table.ipynb>data table notebook</a>'\n",
              "            + ' to learn more about interactive tables.';\n",
              "          element.innerHTML = '';\n",
              "          dataTable['output_type'] = 'display_data';\n",
              "          await google.colab.output.renderOutput(dataTable, element);\n",
              "          const docLink = document.createElement('div');\n",
              "          docLink.innerHTML = docLinkHtml;\n",
              "          element.appendChild(docLink);\n",
              "        }\n",
              "      </script>\n",
              "    </div>\n",
              "  </div>\n",
              "  "
            ],
            "text/plain": [
              "        Data      UPR     Fazenda Talhão  ...  Finos Umidade   CF % Comprimento\n",
              "0 2019-01-01  Maringá  Maringá II     67  ...  10.57    5.05  78.03         NaN\n",
              "1 2019-01-01  Maringá  Maringá II     67  ...  10.57    5.05  78.03         NaN\n",
              "2 2019-01-01  Maringá  Maringá II     67  ...  10.57    5.05  78.03         NaN\n",
              "3 2019-01-01  Maringá  Maringá II     67  ...  10.57    5.05  78.03         NaN\n",
              "4 2019-01-01  Maringá  Maringá II     67  ...  10.57    5.05  78.03         NaN\n",
              "\n",
              "[5 rows x 16 columns]"
            ]
          },
          "metadata": {},
          "execution_count": 10
        }
      ]
    },
    {
      "cell_type": "code",
      "source": [
        "# Criando um cópia do dataframe\n",
        "df_clean = df.copy()\n",
        "# Excluindo a variável Comprimento\n",
        "print(\"Dataframe após exclusão da variável Comprimento\\n\")\n",
        "df_clean.drop([\"Comprimento\"], axis=1, inplace=True)\n",
        "df_clean.head()"
      ],
      "metadata": {
        "colab": {
          "base_uri": "https://localhost:8080/",
          "height": 243
        },
        "id": "jOIATWzI7hDA",
        "outputId": "71480e60-7579-431e-a72b-3a8e2ac52c4c"
      },
      "execution_count": 11,
      "outputs": [
        {
          "output_type": "stream",
          "name": "stdout",
          "text": [
            "Dataframe após exclusão da variável Comprimento\n",
            "\n"
          ]
        },
        {
          "output_type": "execute_result",
          "data": {
            "text/html": [
              "\n",
              "  <div id=\"df-ade67fe7-8283-4757-a8bb-0537ee414ba3\">\n",
              "    <div class=\"colab-df-container\">\n",
              "      <div>\n",
              "<style scoped>\n",
              "    .dataframe tbody tr th:only-of-type {\n",
              "        vertical-align: middle;\n",
              "    }\n",
              "\n",
              "    .dataframe tbody tr th {\n",
              "        vertical-align: top;\n",
              "    }\n",
              "\n",
              "    .dataframe thead th {\n",
              "        text-align: right;\n",
              "    }\n",
              "</style>\n",
              "<table border=\"1\" class=\"dataframe\">\n",
              "  <thead>\n",
              "    <tr style=\"text-align: right;\">\n",
              "      <th></th>\n",
              "      <th>Data</th>\n",
              "      <th>UPR</th>\n",
              "      <th>Fazenda</th>\n",
              "      <th>Talhão</th>\n",
              "      <th>Espécie</th>\n",
              "      <th>Idade</th>\n",
              "      <th>Dias Secagem</th>\n",
              "      <th>Madeira</th>\n",
              "      <th>Tiço Enfornado</th>\n",
              "      <th>Tiço Gerado</th>\n",
              "      <th>Produção</th>\n",
              "      <th>Densidade</th>\n",
              "      <th>Finos</th>\n",
              "      <th>Umidade</th>\n",
              "      <th>CF %</th>\n",
              "    </tr>\n",
              "  </thead>\n",
              "  <tbody>\n",
              "    <tr>\n",
              "      <th>0</th>\n",
              "      <td>2019-01-01</td>\n",
              "      <td>Maringá</td>\n",
              "      <td>Maringá II</td>\n",
              "      <td>67</td>\n",
              "      <td>-</td>\n",
              "      <td>10.66</td>\n",
              "      <td>161.0</td>\n",
              "      <td>476.83</td>\n",
              "      <td>56.1</td>\n",
              "      <td>65.29</td>\n",
              "      <td>61.91</td>\n",
              "      <td>268.82</td>\n",
              "      <td>10.57</td>\n",
              "      <td>5.05</td>\n",
              "      <td>78.03</td>\n",
              "    </tr>\n",
              "    <tr>\n",
              "      <th>1</th>\n",
              "      <td>2019-01-01</td>\n",
              "      <td>Maringá</td>\n",
              "      <td>Maringá II</td>\n",
              "      <td>67</td>\n",
              "      <td>-</td>\n",
              "      <td>10.66</td>\n",
              "      <td>162.0</td>\n",
              "      <td>483.2</td>\n",
              "      <td>55.4</td>\n",
              "      <td>63.71</td>\n",
              "      <td>61.68</td>\n",
              "      <td>268.82</td>\n",
              "      <td>10.57</td>\n",
              "      <td>5.05</td>\n",
              "      <td>78.03</td>\n",
              "    </tr>\n",
              "    <tr>\n",
              "      <th>2</th>\n",
              "      <td>2019-01-01</td>\n",
              "      <td>Maringá</td>\n",
              "      <td>Maringá II</td>\n",
              "      <td>67</td>\n",
              "      <td>-</td>\n",
              "      <td>10.66</td>\n",
              "      <td>163.0</td>\n",
              "      <td>487.6</td>\n",
              "      <td>53.5</td>\n",
              "      <td>60</td>\n",
              "      <td>60.39</td>\n",
              "      <td>268.82</td>\n",
              "      <td>10.57</td>\n",
              "      <td>5.05</td>\n",
              "      <td>78.03</td>\n",
              "    </tr>\n",
              "    <tr>\n",
              "      <th>3</th>\n",
              "      <td>2019-01-01</td>\n",
              "      <td>Maringá</td>\n",
              "      <td>Maringá II</td>\n",
              "      <td>67</td>\n",
              "      <td>-</td>\n",
              "      <td>10.66</td>\n",
              "      <td>166.0</td>\n",
              "      <td>460.27</td>\n",
              "      <td>44.69</td>\n",
              "      <td>46.34</td>\n",
              "      <td>56.49</td>\n",
              "      <td>268.82</td>\n",
              "      <td>10.57</td>\n",
              "      <td>5.05</td>\n",
              "      <td>78.03</td>\n",
              "    </tr>\n",
              "    <tr>\n",
              "      <th>4</th>\n",
              "      <td>2019-01-01</td>\n",
              "      <td>Maringá</td>\n",
              "      <td>Maringá II</td>\n",
              "      <td>67</td>\n",
              "      <td>-</td>\n",
              "      <td>10.66</td>\n",
              "      <td>167.0</td>\n",
              "      <td>477.35</td>\n",
              "      <td>58.71</td>\n",
              "      <td>66.08</td>\n",
              "      <td>60.00</td>\n",
              "      <td>268.82</td>\n",
              "      <td>10.57</td>\n",
              "      <td>5.05</td>\n",
              "      <td>78.03</td>\n",
              "    </tr>\n",
              "  </tbody>\n",
              "</table>\n",
              "</div>\n",
              "      <button class=\"colab-df-convert\" onclick=\"convertToInteractive('df-ade67fe7-8283-4757-a8bb-0537ee414ba3')\"\n",
              "              title=\"Convert this dataframe to an interactive table.\"\n",
              "              style=\"display:none;\">\n",
              "        \n",
              "  <svg xmlns=\"http://www.w3.org/2000/svg\" height=\"24px\"viewBox=\"0 0 24 24\"\n",
              "       width=\"24px\">\n",
              "    <path d=\"M0 0h24v24H0V0z\" fill=\"none\"/>\n",
              "    <path d=\"M18.56 5.44l.94 2.06.94-2.06 2.06-.94-2.06-.94-.94-2.06-.94 2.06-2.06.94zm-11 1L8.5 8.5l.94-2.06 2.06-.94-2.06-.94L8.5 2.5l-.94 2.06-2.06.94zm10 10l.94 2.06.94-2.06 2.06-.94-2.06-.94-.94-2.06-.94 2.06-2.06.94z\"/><path d=\"M17.41 7.96l-1.37-1.37c-.4-.4-.92-.59-1.43-.59-.52 0-1.04.2-1.43.59L10.3 9.45l-7.72 7.72c-.78.78-.78 2.05 0 2.83L4 21.41c.39.39.9.59 1.41.59.51 0 1.02-.2 1.41-.59l7.78-7.78 2.81-2.81c.8-.78.8-2.07 0-2.86zM5.41 20L4 18.59l7.72-7.72 1.47 1.35L5.41 20z\"/>\n",
              "  </svg>\n",
              "      </button>\n",
              "      \n",
              "  <style>\n",
              "    .colab-df-container {\n",
              "      display:flex;\n",
              "      flex-wrap:wrap;\n",
              "      gap: 12px;\n",
              "    }\n",
              "\n",
              "    .colab-df-convert {\n",
              "      background-color: #E8F0FE;\n",
              "      border: none;\n",
              "      border-radius: 50%;\n",
              "      cursor: pointer;\n",
              "      display: none;\n",
              "      fill: #1967D2;\n",
              "      height: 32px;\n",
              "      padding: 0 0 0 0;\n",
              "      width: 32px;\n",
              "    }\n",
              "\n",
              "    .colab-df-convert:hover {\n",
              "      background-color: #E2EBFA;\n",
              "      box-shadow: 0px 1px 2px rgba(60, 64, 67, 0.3), 0px 1px 3px 1px rgba(60, 64, 67, 0.15);\n",
              "      fill: #174EA6;\n",
              "    }\n",
              "\n",
              "    [theme=dark] .colab-df-convert {\n",
              "      background-color: #3B4455;\n",
              "      fill: #D2E3FC;\n",
              "    }\n",
              "\n",
              "    [theme=dark] .colab-df-convert:hover {\n",
              "      background-color: #434B5C;\n",
              "      box-shadow: 0px 1px 3px 1px rgba(0, 0, 0, 0.15);\n",
              "      filter: drop-shadow(0px 1px 2px rgba(0, 0, 0, 0.3));\n",
              "      fill: #FFFFFF;\n",
              "    }\n",
              "  </style>\n",
              "\n",
              "      <script>\n",
              "        const buttonEl =\n",
              "          document.querySelector('#df-ade67fe7-8283-4757-a8bb-0537ee414ba3 button.colab-df-convert');\n",
              "        buttonEl.style.display =\n",
              "          google.colab.kernel.accessAllowed ? 'block' : 'none';\n",
              "\n",
              "        async function convertToInteractive(key) {\n",
              "          const element = document.querySelector('#df-ade67fe7-8283-4757-a8bb-0537ee414ba3');\n",
              "          const dataTable =\n",
              "            await google.colab.kernel.invokeFunction('convertToInteractive',\n",
              "                                                     [key], {});\n",
              "          if (!dataTable) return;\n",
              "\n",
              "          const docLinkHtml = 'Like what you see? Visit the ' +\n",
              "            '<a target=\"_blank\" href=https://colab.research.google.com/notebooks/data_table.ipynb>data table notebook</a>'\n",
              "            + ' to learn more about interactive tables.';\n",
              "          element.innerHTML = '';\n",
              "          dataTable['output_type'] = 'display_data';\n",
              "          await google.colab.output.renderOutput(dataTable, element);\n",
              "          const docLink = document.createElement('div');\n",
              "          docLink.innerHTML = docLinkHtml;\n",
              "          element.appendChild(docLink);\n",
              "        }\n",
              "      </script>\n",
              "    </div>\n",
              "  </div>\n",
              "  "
            ],
            "text/plain": [
              "        Data      UPR     Fazenda Talhão  ... Densidade  Finos  Umidade   CF %\n",
              "0 2019-01-01  Maringá  Maringá II     67  ...    268.82  10.57     5.05  78.03\n",
              "1 2019-01-01  Maringá  Maringá II     67  ...    268.82  10.57     5.05  78.03\n",
              "2 2019-01-01  Maringá  Maringá II     67  ...    268.82  10.57     5.05  78.03\n",
              "3 2019-01-01  Maringá  Maringá II     67  ...    268.82  10.57     5.05  78.03\n",
              "4 2019-01-01  Maringá  Maringá II     67  ...    268.82  10.57     5.05  78.03\n",
              "\n",
              "[5 rows x 15 columns]"
            ]
          },
          "metadata": {},
          "execution_count": 11
        }
      ]
    },
    {
      "cell_type": "markdown",
      "source": [
        "## Tratamento das entradas da variável `Talhão`"
      ],
      "metadata": {
        "id": "nFpiUs7csvHM"
      }
    },
    {
      "cell_type": "markdown",
      "source": [
        "A variável `Talhão` não será utilizada nesta análise, sendo assim será realizado a remoção da variável."
      ],
      "metadata": {
        "id": "pfvSIJp5s0bO"
      }
    },
    {
      "cell_type": "code",
      "source": [
        "# Excluindo a variável Talhão\n",
        "print(\"Dataframe após exclusão da variável Talhão\\n\")\n",
        "df_clean.drop([\"Talhão\"], axis=1, inplace=True)\n",
        "df_clean.head()"
      ],
      "metadata": {
        "colab": {
          "base_uri": "https://localhost:8080/",
          "height": 243
        },
        "id": "o7fU1fh7s9sU",
        "outputId": "0552cdf1-5d0b-4055-cb08-2053d9b35811"
      },
      "execution_count": 12,
      "outputs": [
        {
          "output_type": "stream",
          "name": "stdout",
          "text": [
            "Dataframe após exclusão da variável Talhão\n",
            "\n"
          ]
        },
        {
          "output_type": "execute_result",
          "data": {
            "text/html": [
              "\n",
              "  <div id=\"df-1d10ce9e-3308-4743-be12-8be5e3d7673b\">\n",
              "    <div class=\"colab-df-container\">\n",
              "      <div>\n",
              "<style scoped>\n",
              "    .dataframe tbody tr th:only-of-type {\n",
              "        vertical-align: middle;\n",
              "    }\n",
              "\n",
              "    .dataframe tbody tr th {\n",
              "        vertical-align: top;\n",
              "    }\n",
              "\n",
              "    .dataframe thead th {\n",
              "        text-align: right;\n",
              "    }\n",
              "</style>\n",
              "<table border=\"1\" class=\"dataframe\">\n",
              "  <thead>\n",
              "    <tr style=\"text-align: right;\">\n",
              "      <th></th>\n",
              "      <th>Data</th>\n",
              "      <th>UPR</th>\n",
              "      <th>Fazenda</th>\n",
              "      <th>Espécie</th>\n",
              "      <th>Idade</th>\n",
              "      <th>Dias Secagem</th>\n",
              "      <th>Madeira</th>\n",
              "      <th>Tiço Enfornado</th>\n",
              "      <th>Tiço Gerado</th>\n",
              "      <th>Produção</th>\n",
              "      <th>Densidade</th>\n",
              "      <th>Finos</th>\n",
              "      <th>Umidade</th>\n",
              "      <th>CF %</th>\n",
              "    </tr>\n",
              "  </thead>\n",
              "  <tbody>\n",
              "    <tr>\n",
              "      <th>0</th>\n",
              "      <td>2019-01-01</td>\n",
              "      <td>Maringá</td>\n",
              "      <td>Maringá II</td>\n",
              "      <td>-</td>\n",
              "      <td>10.66</td>\n",
              "      <td>161.0</td>\n",
              "      <td>476.83</td>\n",
              "      <td>56.1</td>\n",
              "      <td>65.29</td>\n",
              "      <td>61.91</td>\n",
              "      <td>268.82</td>\n",
              "      <td>10.57</td>\n",
              "      <td>5.05</td>\n",
              "      <td>78.03</td>\n",
              "    </tr>\n",
              "    <tr>\n",
              "      <th>1</th>\n",
              "      <td>2019-01-01</td>\n",
              "      <td>Maringá</td>\n",
              "      <td>Maringá II</td>\n",
              "      <td>-</td>\n",
              "      <td>10.66</td>\n",
              "      <td>162.0</td>\n",
              "      <td>483.2</td>\n",
              "      <td>55.4</td>\n",
              "      <td>63.71</td>\n",
              "      <td>61.68</td>\n",
              "      <td>268.82</td>\n",
              "      <td>10.57</td>\n",
              "      <td>5.05</td>\n",
              "      <td>78.03</td>\n",
              "    </tr>\n",
              "    <tr>\n",
              "      <th>2</th>\n",
              "      <td>2019-01-01</td>\n",
              "      <td>Maringá</td>\n",
              "      <td>Maringá II</td>\n",
              "      <td>-</td>\n",
              "      <td>10.66</td>\n",
              "      <td>163.0</td>\n",
              "      <td>487.6</td>\n",
              "      <td>53.5</td>\n",
              "      <td>60</td>\n",
              "      <td>60.39</td>\n",
              "      <td>268.82</td>\n",
              "      <td>10.57</td>\n",
              "      <td>5.05</td>\n",
              "      <td>78.03</td>\n",
              "    </tr>\n",
              "    <tr>\n",
              "      <th>3</th>\n",
              "      <td>2019-01-01</td>\n",
              "      <td>Maringá</td>\n",
              "      <td>Maringá II</td>\n",
              "      <td>-</td>\n",
              "      <td>10.66</td>\n",
              "      <td>166.0</td>\n",
              "      <td>460.27</td>\n",
              "      <td>44.69</td>\n",
              "      <td>46.34</td>\n",
              "      <td>56.49</td>\n",
              "      <td>268.82</td>\n",
              "      <td>10.57</td>\n",
              "      <td>5.05</td>\n",
              "      <td>78.03</td>\n",
              "    </tr>\n",
              "    <tr>\n",
              "      <th>4</th>\n",
              "      <td>2019-01-01</td>\n",
              "      <td>Maringá</td>\n",
              "      <td>Maringá II</td>\n",
              "      <td>-</td>\n",
              "      <td>10.66</td>\n",
              "      <td>167.0</td>\n",
              "      <td>477.35</td>\n",
              "      <td>58.71</td>\n",
              "      <td>66.08</td>\n",
              "      <td>60.00</td>\n",
              "      <td>268.82</td>\n",
              "      <td>10.57</td>\n",
              "      <td>5.05</td>\n",
              "      <td>78.03</td>\n",
              "    </tr>\n",
              "  </tbody>\n",
              "</table>\n",
              "</div>\n",
              "      <button class=\"colab-df-convert\" onclick=\"convertToInteractive('df-1d10ce9e-3308-4743-be12-8be5e3d7673b')\"\n",
              "              title=\"Convert this dataframe to an interactive table.\"\n",
              "              style=\"display:none;\">\n",
              "        \n",
              "  <svg xmlns=\"http://www.w3.org/2000/svg\" height=\"24px\"viewBox=\"0 0 24 24\"\n",
              "       width=\"24px\">\n",
              "    <path d=\"M0 0h24v24H0V0z\" fill=\"none\"/>\n",
              "    <path d=\"M18.56 5.44l.94 2.06.94-2.06 2.06-.94-2.06-.94-.94-2.06-.94 2.06-2.06.94zm-11 1L8.5 8.5l.94-2.06 2.06-.94-2.06-.94L8.5 2.5l-.94 2.06-2.06.94zm10 10l.94 2.06.94-2.06 2.06-.94-2.06-.94-.94-2.06-.94 2.06-2.06.94z\"/><path d=\"M17.41 7.96l-1.37-1.37c-.4-.4-.92-.59-1.43-.59-.52 0-1.04.2-1.43.59L10.3 9.45l-7.72 7.72c-.78.78-.78 2.05 0 2.83L4 21.41c.39.39.9.59 1.41.59.51 0 1.02-.2 1.41-.59l7.78-7.78 2.81-2.81c.8-.78.8-2.07 0-2.86zM5.41 20L4 18.59l7.72-7.72 1.47 1.35L5.41 20z\"/>\n",
              "  </svg>\n",
              "      </button>\n",
              "      \n",
              "  <style>\n",
              "    .colab-df-container {\n",
              "      display:flex;\n",
              "      flex-wrap:wrap;\n",
              "      gap: 12px;\n",
              "    }\n",
              "\n",
              "    .colab-df-convert {\n",
              "      background-color: #E8F0FE;\n",
              "      border: none;\n",
              "      border-radius: 50%;\n",
              "      cursor: pointer;\n",
              "      display: none;\n",
              "      fill: #1967D2;\n",
              "      height: 32px;\n",
              "      padding: 0 0 0 0;\n",
              "      width: 32px;\n",
              "    }\n",
              "\n",
              "    .colab-df-convert:hover {\n",
              "      background-color: #E2EBFA;\n",
              "      box-shadow: 0px 1px 2px rgba(60, 64, 67, 0.3), 0px 1px 3px 1px rgba(60, 64, 67, 0.15);\n",
              "      fill: #174EA6;\n",
              "    }\n",
              "\n",
              "    [theme=dark] .colab-df-convert {\n",
              "      background-color: #3B4455;\n",
              "      fill: #D2E3FC;\n",
              "    }\n",
              "\n",
              "    [theme=dark] .colab-df-convert:hover {\n",
              "      background-color: #434B5C;\n",
              "      box-shadow: 0px 1px 3px 1px rgba(0, 0, 0, 0.15);\n",
              "      filter: drop-shadow(0px 1px 2px rgba(0, 0, 0, 0.3));\n",
              "      fill: #FFFFFF;\n",
              "    }\n",
              "  </style>\n",
              "\n",
              "      <script>\n",
              "        const buttonEl =\n",
              "          document.querySelector('#df-1d10ce9e-3308-4743-be12-8be5e3d7673b button.colab-df-convert');\n",
              "        buttonEl.style.display =\n",
              "          google.colab.kernel.accessAllowed ? 'block' : 'none';\n",
              "\n",
              "        async function convertToInteractive(key) {\n",
              "          const element = document.querySelector('#df-1d10ce9e-3308-4743-be12-8be5e3d7673b');\n",
              "          const dataTable =\n",
              "            await google.colab.kernel.invokeFunction('convertToInteractive',\n",
              "                                                     [key], {});\n",
              "          if (!dataTable) return;\n",
              "\n",
              "          const docLinkHtml = 'Like what you see? Visit the ' +\n",
              "            '<a target=\"_blank\" href=https://colab.research.google.com/notebooks/data_table.ipynb>data table notebook</a>'\n",
              "            + ' to learn more about interactive tables.';\n",
              "          element.innerHTML = '';\n",
              "          dataTable['output_type'] = 'display_data';\n",
              "          await google.colab.output.renderOutput(dataTable, element);\n",
              "          const docLink = document.createElement('div');\n",
              "          docLink.innerHTML = docLinkHtml;\n",
              "          element.appendChild(docLink);\n",
              "        }\n",
              "      </script>\n",
              "    </div>\n",
              "  </div>\n",
              "  "
            ],
            "text/plain": [
              "        Data      UPR     Fazenda Espécie  ... Densidade  Finos Umidade   CF %\n",
              "0 2019-01-01  Maringá  Maringá II    -     ...    268.82  10.57    5.05  78.03\n",
              "1 2019-01-01  Maringá  Maringá II    -     ...    268.82  10.57    5.05  78.03\n",
              "2 2019-01-01  Maringá  Maringá II    -     ...    268.82  10.57    5.05  78.03\n",
              "3 2019-01-01  Maringá  Maringá II    -     ...    268.82  10.57    5.05  78.03\n",
              "4 2019-01-01  Maringá  Maringá II    -     ...    268.82  10.57    5.05  78.03\n",
              "\n",
              "[5 rows x 14 columns]"
            ]
          },
          "metadata": {},
          "execution_count": 12
        }
      ]
    },
    {
      "cell_type": "markdown",
      "source": [
        "## Tratamento das entradas da variável `Densidade`"
      ],
      "metadata": {
        "id": "5bsAbYAbAw77"
      }
    },
    {
      "cell_type": "markdown",
      "source": [
        "A variável Densidade possui cerca de 0.5% das suas entradas com valores ausentes. Nesse caso, será substituído pela média dos valores.\n",
        "\n",
        "A partir da análise descritiva, verificamos que essa variável está razoalmente bem distribuida, pois **75% dos valores** estão próximos ao **valor da média**"
      ],
      "metadata": {
        "id": "_6WA8K5SBoA4"
      }
    },
    {
      "cell_type": "code",
      "source": [
        "# Análise descritiva da variável Densidade\n",
        "df_clean.Densidade.describe()"
      ],
      "metadata": {
        "colab": {
          "base_uri": "https://localhost:8080/"
        },
        "id": "j4-mypXuA7i-",
        "outputId": "bdd54d9b-2051-46ba-88a9-f84175380dd3"
      },
      "execution_count": 13,
      "outputs": [
        {
          "output_type": "execute_result",
          "data": {
            "text/plain": [
              "count    3711.000000\n",
              "mean      247.783269\n",
              "std        16.662546\n",
              "min         0.000000\n",
              "25%       241.710000\n",
              "50%       247.370000\n",
              "75%       254.940000\n",
              "max       272.630000\n",
              "Name: Densidade, dtype: float64"
            ]
          },
          "metadata": {},
          "execution_count": 13
        }
      ]
    },
    {
      "cell_type": "code",
      "source": [
        "# substituindo valores ausentes pela média da densidade\n",
        "df_clean['Densidade'].fillna(df_clean['Densidade'].mean(), inplace=True)\n",
        "print(\"Valores ausentes: \", df_clean['Densidade'].isna().sum())"
      ],
      "metadata": {
        "colab": {
          "base_uri": "https://localhost:8080/"
        },
        "id": "o1jfiOy4A-mP",
        "outputId": "7f7a7121-46a4-463d-aea3-683ad4f5cfcd"
      },
      "execution_count": 14,
      "outputs": [
        {
          "output_type": "stream",
          "name": "stdout",
          "text": [
            "Valores ausentes:  0\n"
          ]
        }
      ]
    },
    {
      "cell_type": "code",
      "source": [
        "# Quantidade de valores ausentes no dataset original da variável Densidade\n",
        "print(\"Valores ausentes: \", df['Densidade'].isna().sum())"
      ],
      "metadata": {
        "colab": {
          "base_uri": "https://localhost:8080/"
        },
        "id": "ioiLMRgRBOja",
        "outputId": "03758cfe-1fc9-4a93-faaf-04d53935cb83"
      },
      "execution_count": 15,
      "outputs": [
        {
          "output_type": "stream",
          "name": "stdout",
          "text": [
            "Valores ausentes:  20\n"
          ]
        }
      ]
    },
    {
      "cell_type": "markdown",
      "source": [
        "## Tratamento das entradas da variável `Finos`"
      ],
      "metadata": {
        "id": "KxGg4lktE6Yh"
      }
    },
    {
      "cell_type": "markdown",
      "source": [
        "A variável `Finos` possui cerca de 0.5% das suas entradas com valores ausentes. Nesse caso, será substituído pela média dos valores."
      ],
      "metadata": {
        "id": "vgl7PUPxUuAC"
      }
    },
    {
      "cell_type": "code",
      "source": [
        "# Análise descritiva da variável Finos\n",
        "df_clean.Finos.describe()"
      ],
      "metadata": {
        "colab": {
          "base_uri": "https://localhost:8080/"
        },
        "id": "ImoR86g1DUOK",
        "outputId": "80691e88-6bd8-4986-819f-c2bffb41b8e8"
      },
      "execution_count": 16,
      "outputs": [
        {
          "output_type": "execute_result",
          "data": {
            "text/plain": [
              "count    3711.000000\n",
              "mean       10.612614\n",
              "std         0.872033\n",
              "min         0.000000\n",
              "25%        10.240000\n",
              "50%        10.630000\n",
              "75%        10.960000\n",
              "max        14.080000\n",
              "Name: Finos, dtype: float64"
            ]
          },
          "metadata": {},
          "execution_count": 16
        }
      ]
    },
    {
      "cell_type": "code",
      "source": [
        "# substituindo valores ausentes pela média da variável Finos\n",
        "df_clean['Finos'].fillna(df_clean['Finos'].mean(), inplace=True)\n",
        "print(\"Valores ausentes: \", df_clean['Finos'].isna().sum())"
      ],
      "metadata": {
        "colab": {
          "base_uri": "https://localhost:8080/"
        },
        "id": "iZNX50eEDwUc",
        "outputId": "9ab05d13-9578-4fc4-9a24-e6017bed35f6"
      },
      "execution_count": 17,
      "outputs": [
        {
          "output_type": "stream",
          "name": "stdout",
          "text": [
            "Valores ausentes:  0\n"
          ]
        }
      ]
    },
    {
      "cell_type": "code",
      "source": [
        "# Quantidade de valores ausentes no dataset original da variável Finos\n",
        "print(\"Valores ausentes: \", df['Finos'].isna().sum())"
      ],
      "metadata": {
        "colab": {
          "base_uri": "https://localhost:8080/"
        },
        "id": "vqr19FjKEIA1",
        "outputId": "71138d0f-98e8-42c6-a9e2-e78a75b7f54b"
      },
      "execution_count": 18,
      "outputs": [
        {
          "output_type": "stream",
          "name": "stdout",
          "text": [
            "Valores ausentes:  20\n"
          ]
        }
      ]
    },
    {
      "cell_type": "markdown",
      "source": [
        "## Tratamento das entradas da variável `Umidade`"
      ],
      "metadata": {
        "id": "XO8Z0058UgO2"
      }
    },
    {
      "cell_type": "markdown",
      "source": [
        "A variável `Umidade` possui cerca de 0.5% das suas entradas com valores ausentes. Nesse caso, será substituído pela média dos valores."
      ],
      "metadata": {
        "id": "-aAPJHtBUl6_"
      }
    },
    {
      "cell_type": "code",
      "source": [
        "# Análise descritiva da variável Umidade\n",
        "df_clean.Umidade.describe()"
      ],
      "metadata": {
        "colab": {
          "base_uri": "https://localhost:8080/"
        },
        "id": "fRLCPdMrUOhl",
        "outputId": "e76644bd-225f-4d79-dd52-f21dce607e9a"
      },
      "execution_count": 19,
      "outputs": [
        {
          "output_type": "execute_result",
          "data": {
            "text/plain": [
              "count    3711.000000\n",
              "mean        5.209510\n",
              "std         1.042252\n",
              "min         0.000000\n",
              "25%         4.470000\n",
              "50%         5.160000\n",
              "75%         5.790000\n",
              "max         9.910000\n",
              "Name: Umidade, dtype: float64"
            ]
          },
          "metadata": {},
          "execution_count": 19
        }
      ]
    },
    {
      "cell_type": "code",
      "source": [
        "# Substituindo valores ausentes pela média da variável Umidade\n",
        "df_clean['Umidade'].fillna(df_clean['Umidade'].mean(), inplace=True)\n",
        "print(\"Valores ausentes: \", df_clean['Umidade'].isna().sum())"
      ],
      "metadata": {
        "colab": {
          "base_uri": "https://localhost:8080/"
        },
        "id": "Wllm28TRU_hV",
        "outputId": "ae3f07d4-3bc1-4b7d-ab3e-618e8a7105f7"
      },
      "execution_count": 20,
      "outputs": [
        {
          "output_type": "stream",
          "name": "stdout",
          "text": [
            "Valores ausentes:  0\n"
          ]
        }
      ]
    },
    {
      "cell_type": "code",
      "source": [
        "# Quantidade de valores ausentes no dataset original da variável Umidade\n",
        "print(\"Valores ausentes: \", df['Umidade'].isna().sum())"
      ],
      "metadata": {
        "colab": {
          "base_uri": "https://localhost:8080/"
        },
        "id": "st3CnAPSVQWk",
        "outputId": "04d13a53-44ac-4b89-9b06-2e96111c8f9c"
      },
      "execution_count": 21,
      "outputs": [
        {
          "output_type": "stream",
          "name": "stdout",
          "text": [
            "Valores ausentes:  20\n"
          ]
        }
      ]
    },
    {
      "cell_type": "markdown",
      "source": [
        "## Tratamento das entradas da variável `Dias Secagem`"
      ],
      "metadata": {
        "id": "3rI57Ia2Vp9S"
      }
    },
    {
      "cell_type": "markdown",
      "source": [
        "A variável `Dias Secagem` possui cerca de 0.05% das suas entradas com valores ausentes. Nesse caso, será substituído pela média dos valores."
      ],
      "metadata": {
        "id": "jzugeSpqVp9X"
      }
    },
    {
      "cell_type": "code",
      "source": [
        "# Análise descritiva da variável Dias Secagem\n",
        "df_clean['Dias Secagem'].describe()"
      ],
      "metadata": {
        "colab": {
          "base_uri": "https://localhost:8080/"
        },
        "outputId": "1ed3afcf-b7d8-46bb-f185-5cbac17abcdf",
        "id": "PeulRloRVp9X"
      },
      "execution_count": 22,
      "outputs": [
        {
          "output_type": "execute_result",
          "data": {
            "text/plain": [
              "count    3729.000000\n",
              "mean      259.692947\n",
              "std       131.466442\n",
              "min         3.000000\n",
              "25%       173.000000\n",
              "50%       236.000000\n",
              "75%       320.000000\n",
              "max      1115.000000\n",
              "Name: Dias Secagem, dtype: float64"
            ]
          },
          "metadata": {},
          "execution_count": 22
        }
      ]
    },
    {
      "cell_type": "code",
      "source": [
        "# Substituindo valores ausentes pela média da variável Dias Secagem\n",
        "df_clean['Dias Secagem'].fillna(df_clean['Dias Secagem'].mean(), inplace=True)\n",
        "print(\"Valores ausentes: \", df_clean['Dias Secagem'].isna().sum())"
      ],
      "metadata": {
        "colab": {
          "base_uri": "https://localhost:8080/"
        },
        "outputId": "874a2cd8-b8d3-4e0a-91d0-031a6d98561b",
        "id": "rpls0lwyVp9Y"
      },
      "execution_count": 23,
      "outputs": [
        {
          "output_type": "stream",
          "name": "stdout",
          "text": [
            "Valores ausentes:  0\n"
          ]
        }
      ]
    },
    {
      "cell_type": "code",
      "source": [
        "# Quantidade de valores ausentes no dataset original da variável Dias Secagem\n",
        "print(\"Valores ausentes: \", df['Dias Secagem'].isna().sum())"
      ],
      "metadata": {
        "colab": {
          "base_uri": "https://localhost:8080/"
        },
        "outputId": "23c86a1d-b7ad-472c-a89f-9ddaee4d72df",
        "id": "DKBKgFNSVp9Y"
      },
      "execution_count": 24,
      "outputs": [
        {
          "output_type": "stream",
          "name": "stdout",
          "text": [
            "Valores ausentes:  2\n"
          ]
        }
      ]
    },
    {
      "cell_type": "markdown",
      "source": [
        "## Tratamento das entradas da variável `Espécie`"
      ],
      "metadata": {
        "id": "_889NALYYvpu"
      }
    },
    {
      "cell_type": "markdown",
      "source": [
        "Observando os valores únicos do dataset, podemos verificar algumas entradas diferentes do usual. \n",
        "\n",
        "Algumas entradas possuem o **hífen (-)**, podendo corresponder a uma espécie desconhecida, que não foi atribuído ao dataset. Portanto, irei realizar a alteração do **hífen (-)** para **Não atribuído**. \n"
      ],
      "metadata": {
        "id": "QkWrFppPazCi"
      }
    },
    {
      "cell_type": "code",
      "source": [
        "#Verificando os valores únicos da variável Espécie\n",
        "df_clean['Espécie'].head()"
      ],
      "metadata": {
        "colab": {
          "base_uri": "https://localhost:8080/"
        },
        "id": "ZSAnywdqYulu",
        "outputId": "9475b9a2-379b-4f14-c9fc-85779c2ecc31"
      },
      "execution_count": 25,
      "outputs": [
        {
          "output_type": "execute_result",
          "data": {
            "text/plain": [
              "0     -   \n",
              "1     -   \n",
              "2     -   \n",
              "3     -   \n",
              "4     -   \n",
              "Name: Espécie, dtype: object"
            ]
          },
          "metadata": {},
          "execution_count": 25
        }
      ]
    },
    {
      "cell_type": "code",
      "source": [
        "# Substituíndo as entradas da variável Espécie\n",
        "df_clean['Espécie'].replace(to_replace=\" -   \", value=\"Não Atribuído\", inplace=True)\n",
        "df_clean.head()"
      ],
      "metadata": {
        "colab": {
          "base_uri": "https://localhost:8080/",
          "height": 206
        },
        "id": "TmL737mpZWpm",
        "outputId": "9679dd73-53e3-4140-d9db-3ec48fdee912"
      },
      "execution_count": 26,
      "outputs": [
        {
          "output_type": "execute_result",
          "data": {
            "text/html": [
              "\n",
              "  <div id=\"df-be310f34-5cd6-4b96-9ed6-9137c1d2923f\">\n",
              "    <div class=\"colab-df-container\">\n",
              "      <div>\n",
              "<style scoped>\n",
              "    .dataframe tbody tr th:only-of-type {\n",
              "        vertical-align: middle;\n",
              "    }\n",
              "\n",
              "    .dataframe tbody tr th {\n",
              "        vertical-align: top;\n",
              "    }\n",
              "\n",
              "    .dataframe thead th {\n",
              "        text-align: right;\n",
              "    }\n",
              "</style>\n",
              "<table border=\"1\" class=\"dataframe\">\n",
              "  <thead>\n",
              "    <tr style=\"text-align: right;\">\n",
              "      <th></th>\n",
              "      <th>Data</th>\n",
              "      <th>UPR</th>\n",
              "      <th>Fazenda</th>\n",
              "      <th>Espécie</th>\n",
              "      <th>Idade</th>\n",
              "      <th>Dias Secagem</th>\n",
              "      <th>Madeira</th>\n",
              "      <th>Tiço Enfornado</th>\n",
              "      <th>Tiço Gerado</th>\n",
              "      <th>Produção</th>\n",
              "      <th>Densidade</th>\n",
              "      <th>Finos</th>\n",
              "      <th>Umidade</th>\n",
              "      <th>CF %</th>\n",
              "    </tr>\n",
              "  </thead>\n",
              "  <tbody>\n",
              "    <tr>\n",
              "      <th>0</th>\n",
              "      <td>2019-01-01</td>\n",
              "      <td>Maringá</td>\n",
              "      <td>Maringá II</td>\n",
              "      <td>Não Atribuído</td>\n",
              "      <td>10.66</td>\n",
              "      <td>161.0</td>\n",
              "      <td>476.83</td>\n",
              "      <td>56.1</td>\n",
              "      <td>65.29</td>\n",
              "      <td>61.91</td>\n",
              "      <td>268.82</td>\n",
              "      <td>10.57</td>\n",
              "      <td>5.05</td>\n",
              "      <td>78.03</td>\n",
              "    </tr>\n",
              "    <tr>\n",
              "      <th>1</th>\n",
              "      <td>2019-01-01</td>\n",
              "      <td>Maringá</td>\n",
              "      <td>Maringá II</td>\n",
              "      <td>Não Atribuído</td>\n",
              "      <td>10.66</td>\n",
              "      <td>162.0</td>\n",
              "      <td>483.2</td>\n",
              "      <td>55.4</td>\n",
              "      <td>63.71</td>\n",
              "      <td>61.68</td>\n",
              "      <td>268.82</td>\n",
              "      <td>10.57</td>\n",
              "      <td>5.05</td>\n",
              "      <td>78.03</td>\n",
              "    </tr>\n",
              "    <tr>\n",
              "      <th>2</th>\n",
              "      <td>2019-01-01</td>\n",
              "      <td>Maringá</td>\n",
              "      <td>Maringá II</td>\n",
              "      <td>Não Atribuído</td>\n",
              "      <td>10.66</td>\n",
              "      <td>163.0</td>\n",
              "      <td>487.6</td>\n",
              "      <td>53.5</td>\n",
              "      <td>60</td>\n",
              "      <td>60.39</td>\n",
              "      <td>268.82</td>\n",
              "      <td>10.57</td>\n",
              "      <td>5.05</td>\n",
              "      <td>78.03</td>\n",
              "    </tr>\n",
              "    <tr>\n",
              "      <th>3</th>\n",
              "      <td>2019-01-01</td>\n",
              "      <td>Maringá</td>\n",
              "      <td>Maringá II</td>\n",
              "      <td>Não Atribuído</td>\n",
              "      <td>10.66</td>\n",
              "      <td>166.0</td>\n",
              "      <td>460.27</td>\n",
              "      <td>44.69</td>\n",
              "      <td>46.34</td>\n",
              "      <td>56.49</td>\n",
              "      <td>268.82</td>\n",
              "      <td>10.57</td>\n",
              "      <td>5.05</td>\n",
              "      <td>78.03</td>\n",
              "    </tr>\n",
              "    <tr>\n",
              "      <th>4</th>\n",
              "      <td>2019-01-01</td>\n",
              "      <td>Maringá</td>\n",
              "      <td>Maringá II</td>\n",
              "      <td>Não Atribuído</td>\n",
              "      <td>10.66</td>\n",
              "      <td>167.0</td>\n",
              "      <td>477.35</td>\n",
              "      <td>58.71</td>\n",
              "      <td>66.08</td>\n",
              "      <td>60.00</td>\n",
              "      <td>268.82</td>\n",
              "      <td>10.57</td>\n",
              "      <td>5.05</td>\n",
              "      <td>78.03</td>\n",
              "    </tr>\n",
              "  </tbody>\n",
              "</table>\n",
              "</div>\n",
              "      <button class=\"colab-df-convert\" onclick=\"convertToInteractive('df-be310f34-5cd6-4b96-9ed6-9137c1d2923f')\"\n",
              "              title=\"Convert this dataframe to an interactive table.\"\n",
              "              style=\"display:none;\">\n",
              "        \n",
              "  <svg xmlns=\"http://www.w3.org/2000/svg\" height=\"24px\"viewBox=\"0 0 24 24\"\n",
              "       width=\"24px\">\n",
              "    <path d=\"M0 0h24v24H0V0z\" fill=\"none\"/>\n",
              "    <path d=\"M18.56 5.44l.94 2.06.94-2.06 2.06-.94-2.06-.94-.94-2.06-.94 2.06-2.06.94zm-11 1L8.5 8.5l.94-2.06 2.06-.94-2.06-.94L8.5 2.5l-.94 2.06-2.06.94zm10 10l.94 2.06.94-2.06 2.06-.94-2.06-.94-.94-2.06-.94 2.06-2.06.94z\"/><path d=\"M17.41 7.96l-1.37-1.37c-.4-.4-.92-.59-1.43-.59-.52 0-1.04.2-1.43.59L10.3 9.45l-7.72 7.72c-.78.78-.78 2.05 0 2.83L4 21.41c.39.39.9.59 1.41.59.51 0 1.02-.2 1.41-.59l7.78-7.78 2.81-2.81c.8-.78.8-2.07 0-2.86zM5.41 20L4 18.59l7.72-7.72 1.47 1.35L5.41 20z\"/>\n",
              "  </svg>\n",
              "      </button>\n",
              "      \n",
              "  <style>\n",
              "    .colab-df-container {\n",
              "      display:flex;\n",
              "      flex-wrap:wrap;\n",
              "      gap: 12px;\n",
              "    }\n",
              "\n",
              "    .colab-df-convert {\n",
              "      background-color: #E8F0FE;\n",
              "      border: none;\n",
              "      border-radius: 50%;\n",
              "      cursor: pointer;\n",
              "      display: none;\n",
              "      fill: #1967D2;\n",
              "      height: 32px;\n",
              "      padding: 0 0 0 0;\n",
              "      width: 32px;\n",
              "    }\n",
              "\n",
              "    .colab-df-convert:hover {\n",
              "      background-color: #E2EBFA;\n",
              "      box-shadow: 0px 1px 2px rgba(60, 64, 67, 0.3), 0px 1px 3px 1px rgba(60, 64, 67, 0.15);\n",
              "      fill: #174EA6;\n",
              "    }\n",
              "\n",
              "    [theme=dark] .colab-df-convert {\n",
              "      background-color: #3B4455;\n",
              "      fill: #D2E3FC;\n",
              "    }\n",
              "\n",
              "    [theme=dark] .colab-df-convert:hover {\n",
              "      background-color: #434B5C;\n",
              "      box-shadow: 0px 1px 3px 1px rgba(0, 0, 0, 0.15);\n",
              "      filter: drop-shadow(0px 1px 2px rgba(0, 0, 0, 0.3));\n",
              "      fill: #FFFFFF;\n",
              "    }\n",
              "  </style>\n",
              "\n",
              "      <script>\n",
              "        const buttonEl =\n",
              "          document.querySelector('#df-be310f34-5cd6-4b96-9ed6-9137c1d2923f button.colab-df-convert');\n",
              "        buttonEl.style.display =\n",
              "          google.colab.kernel.accessAllowed ? 'block' : 'none';\n",
              "\n",
              "        async function convertToInteractive(key) {\n",
              "          const element = document.querySelector('#df-be310f34-5cd6-4b96-9ed6-9137c1d2923f');\n",
              "          const dataTable =\n",
              "            await google.colab.kernel.invokeFunction('convertToInteractive',\n",
              "                                                     [key], {});\n",
              "          if (!dataTable) return;\n",
              "\n",
              "          const docLinkHtml = 'Like what you see? Visit the ' +\n",
              "            '<a target=\"_blank\" href=https://colab.research.google.com/notebooks/data_table.ipynb>data table notebook</a>'\n",
              "            + ' to learn more about interactive tables.';\n",
              "          element.innerHTML = '';\n",
              "          dataTable['output_type'] = 'display_data';\n",
              "          await google.colab.output.renderOutput(dataTable, element);\n",
              "          const docLink = document.createElement('div');\n",
              "          docLink.innerHTML = docLinkHtml;\n",
              "          element.appendChild(docLink);\n",
              "        }\n",
              "      </script>\n",
              "    </div>\n",
              "  </div>\n",
              "  "
            ],
            "text/plain": [
              "        Data      UPR     Fazenda  ...  Finos Umidade   CF %\n",
              "0 2019-01-01  Maringá  Maringá II  ...  10.57    5.05  78.03\n",
              "1 2019-01-01  Maringá  Maringá II  ...  10.57    5.05  78.03\n",
              "2 2019-01-01  Maringá  Maringá II  ...  10.57    5.05  78.03\n",
              "3 2019-01-01  Maringá  Maringá II  ...  10.57    5.05  78.03\n",
              "4 2019-01-01  Maringá  Maringá II  ...  10.57    5.05  78.03\n",
              "\n",
              "[5 rows x 14 columns]"
            ]
          },
          "metadata": {},
          "execution_count": 26
        }
      ]
    },
    {
      "cell_type": "markdown",
      "source": [
        "## Tratamento das entradas da variável `Data`"
      ],
      "metadata": {
        "id": "pAKzt_Awwn5X"
      }
    },
    {
      "cell_type": "markdown",
      "source": [
        "É possível verificar que a variável `Data` está como modo númerico. A partir disso será realizado a conversão para o tipo **Datetime**, mostrando apenas **mês** e **ano**.\n",
        "\n",
        "E por fim, manter a Data como index do dataframe."
      ],
      "metadata": {
        "id": "cnoA1PJCwrvA"
      }
    },
    {
      "cell_type": "code",
      "source": [
        "#importando biblioteca datetime\n",
        "from datetime import timedelta\n",
        "\n",
        "#Conversão para Datetime e adicionando nova Data\n",
        "df_clean['Data_2'] = pd.to_datetime(df_clean['Data'], format=\"%m00%Y\").apply(lambda x: x.strftime('%m-%Y'))"
      ],
      "metadata": {
        "id": "Gckrw4pJZWh1"
      },
      "execution_count": 27,
      "outputs": []
    },
    {
      "cell_type": "code",
      "source": [
        "df_clean.sample(10)"
      ],
      "metadata": {
        "colab": {
          "base_uri": "https://localhost:8080/",
          "height": 363
        },
        "id": "tdIv0rFz1ZIL",
        "outputId": "f8662ea0-31af-486e-cb97-d158239fac0c"
      },
      "execution_count": 28,
      "outputs": [
        {
          "output_type": "execute_result",
          "data": {
            "text/html": [
              "\n",
              "  <div id=\"df-94bf12eb-a846-4f2a-bc04-7f5e0c24e43e\">\n",
              "    <div class=\"colab-df-container\">\n",
              "      <div>\n",
              "<style scoped>\n",
              "    .dataframe tbody tr th:only-of-type {\n",
              "        vertical-align: middle;\n",
              "    }\n",
              "\n",
              "    .dataframe tbody tr th {\n",
              "        vertical-align: top;\n",
              "    }\n",
              "\n",
              "    .dataframe thead th {\n",
              "        text-align: right;\n",
              "    }\n",
              "</style>\n",
              "<table border=\"1\" class=\"dataframe\">\n",
              "  <thead>\n",
              "    <tr style=\"text-align: right;\">\n",
              "      <th></th>\n",
              "      <th>Data</th>\n",
              "      <th>UPR</th>\n",
              "      <th>Fazenda</th>\n",
              "      <th>Espécie</th>\n",
              "      <th>Idade</th>\n",
              "      <th>Dias Secagem</th>\n",
              "      <th>Madeira</th>\n",
              "      <th>Tiço Enfornado</th>\n",
              "      <th>Tiço Gerado</th>\n",
              "      <th>Produção</th>\n",
              "      <th>Densidade</th>\n",
              "      <th>Finos</th>\n",
              "      <th>Umidade</th>\n",
              "      <th>CF %</th>\n",
              "      <th>Data_2</th>\n",
              "    </tr>\n",
              "  </thead>\n",
              "  <tbody>\n",
              "    <tr>\n",
              "      <th>2932</th>\n",
              "      <td>2020-06-01</td>\n",
              "      <td>Butiá</td>\n",
              "      <td>RFC</td>\n",
              "      <td>Diversos</td>\n",
              "      <td>9.01</td>\n",
              "      <td>431.0</td>\n",
              "      <td>179.2</td>\n",
              "      <td>26.26</td>\n",
              "      <td>24.02</td>\n",
              "      <td>17.08</td>\n",
              "      <td>235.040000</td>\n",
              "      <td>11.020000</td>\n",
              "      <td>4.10000</td>\n",
              "      <td>76.31</td>\n",
              "      <td>06-2020</td>\n",
              "    </tr>\n",
              "    <tr>\n",
              "      <th>639</th>\n",
              "      <td>2019-04-01</td>\n",
              "      <td>Mato Dentro</td>\n",
              "      <td>Komiya</td>\n",
              "      <td>Não Atribuído</td>\n",
              "      <td>6.4</td>\n",
              "      <td>269.0</td>\n",
              "      <td>107.14</td>\n",
              "      <td>10.4</td>\n",
              "      <td>8.9</td>\n",
              "      <td>12.16</td>\n",
              "      <td>239.570000</td>\n",
              "      <td>10.670000</td>\n",
              "      <td>5.27000</td>\n",
              "      <td>78.97</td>\n",
              "      <td>04-2019</td>\n",
              "    </tr>\n",
              "    <tr>\n",
              "      <th>2870</th>\n",
              "      <td>2020-06-01</td>\n",
              "      <td>Maringá Retangular</td>\n",
              "      <td>Alba</td>\n",
              "      <td>Clone Urograndis 2361</td>\n",
              "      <td>8.91</td>\n",
              "      <td>542.0</td>\n",
              "      <td>115.67</td>\n",
              "      <td>2.18</td>\n",
              "      <td>9.08</td>\n",
              "      <td>12.10</td>\n",
              "      <td>240.310000</td>\n",
              "      <td>14.080000</td>\n",
              "      <td>4.63000</td>\n",
              "      <td>82.56</td>\n",
              "      <td>06-2020</td>\n",
              "    </tr>\n",
              "    <tr>\n",
              "      <th>2331</th>\n",
              "      <td>2020-02-01</td>\n",
              "      <td>Maringá</td>\n",
              "      <td>Alba</td>\n",
              "      <td>Clone Urograndis 2361</td>\n",
              "      <td>7.93</td>\n",
              "      <td>191.0</td>\n",
              "      <td>306.84</td>\n",
              "      <td>80.68</td>\n",
              "      <td>55.74</td>\n",
              "      <td>39.00</td>\n",
              "      <td>246.560000</td>\n",
              "      <td>10.800000</td>\n",
              "      <td>7.51000</td>\n",
              "      <td>74.28</td>\n",
              "      <td>02-2020</td>\n",
              "    </tr>\n",
              "    <tr>\n",
              "      <th>3080</th>\n",
              "      <td>2020-07-01</td>\n",
              "      <td>Ribeirão da Ilha</td>\n",
              "      <td>Ribeirão da Ilha</td>\n",
              "      <td>Clone Urograndis 2361</td>\n",
              "      <td>10.39</td>\n",
              "      <td>252.0</td>\n",
              "      <td>158.06</td>\n",
              "      <td>16.52</td>\n",
              "      <td>16.64</td>\n",
              "      <td>16.76</td>\n",
              "      <td>251.420000</td>\n",
              "      <td>11.230000</td>\n",
              "      <td>5.62000</td>\n",
              "      <td>74.90</td>\n",
              "      <td>07-2020</td>\n",
              "    </tr>\n",
              "    <tr>\n",
              "      <th>1324</th>\n",
              "      <td>2019-07-01</td>\n",
              "      <td>Mato Dentro</td>\n",
              "      <td>Komiya</td>\n",
              "      <td>Diversos</td>\n",
              "      <td>6.4</td>\n",
              "      <td>361.0</td>\n",
              "      <td>17.56</td>\n",
              "      <td>1.73</td>\n",
              "      <td>1.49</td>\n",
              "      <td>2.00</td>\n",
              "      <td>244.030000</td>\n",
              "      <td>10.500000</td>\n",
              "      <td>4.92000</td>\n",
              "      <td>79.39</td>\n",
              "      <td>07-2019</td>\n",
              "    </tr>\n",
              "    <tr>\n",
              "      <th>3644</th>\n",
              "      <td>2020-11-01</td>\n",
              "      <td>Maringá Retangular</td>\n",
              "      <td>Alba</td>\n",
              "      <td>Clone Urograndis 2361</td>\n",
              "      <td>7.82</td>\n",
              "      <td>370.0</td>\n",
              "      <td>105</td>\n",
              "      <td>14.72</td>\n",
              "      <td>10.5</td>\n",
              "      <td>12.34</td>\n",
              "      <td>247.783269</td>\n",
              "      <td>10.612614</td>\n",
              "      <td>5.20951</td>\n",
              "      <td>81.58</td>\n",
              "      <td>11-2020</td>\n",
              "    </tr>\n",
              "    <tr>\n",
              "      <th>1591</th>\n",
              "      <td>2019-09-01</td>\n",
              "      <td>Maringá Retangular</td>\n",
              "      <td>Alba</td>\n",
              "      <td>Clone Urograndis 2361</td>\n",
              "      <td>8.91</td>\n",
              "      <td>279.0</td>\n",
              "      <td>108.41</td>\n",
              "      <td>2.5</td>\n",
              "      <td>3</td>\n",
              "      <td>9.63</td>\n",
              "      <td>268.400000</td>\n",
              "      <td>10.220000</td>\n",
              "      <td>3.95000</td>\n",
              "      <td>83.26</td>\n",
              "      <td>09-2019</td>\n",
              "    </tr>\n",
              "    <tr>\n",
              "      <th>986</th>\n",
              "      <td>2019-06-01</td>\n",
              "      <td>Tamanduá</td>\n",
              "      <td>Tamanduá</td>\n",
              "      <td>Clone Urograndis GG100</td>\n",
              "      <td>9.93</td>\n",
              "      <td>81.0</td>\n",
              "      <td>70.3</td>\n",
              "      <td>7.56</td>\n",
              "      <td>6.81</td>\n",
              "      <td>6.97</td>\n",
              "      <td>261.900000</td>\n",
              "      <td>11.060000</td>\n",
              "      <td>5.87000</td>\n",
              "      <td>80.14</td>\n",
              "      <td>06-2019</td>\n",
              "    </tr>\n",
              "    <tr>\n",
              "      <th>3401</th>\n",
              "      <td>2020-10-01</td>\n",
              "      <td>Tamanduá</td>\n",
              "      <td>Fecho</td>\n",
              "      <td>Clone Urograndis 2361</td>\n",
              "      <td>7.82</td>\n",
              "      <td>362.0</td>\n",
              "      <td>33</td>\n",
              "      <td>5.3</td>\n",
              "      <td>5.74</td>\n",
              "      <td>4.28</td>\n",
              "      <td>244.520000</td>\n",
              "      <td>10.670000</td>\n",
              "      <td>5.20000</td>\n",
              "      <td>75.95</td>\n",
              "      <td>10-2020</td>\n",
              "    </tr>\n",
              "  </tbody>\n",
              "</table>\n",
              "</div>\n",
              "      <button class=\"colab-df-convert\" onclick=\"convertToInteractive('df-94bf12eb-a846-4f2a-bc04-7f5e0c24e43e')\"\n",
              "              title=\"Convert this dataframe to an interactive table.\"\n",
              "              style=\"display:none;\">\n",
              "        \n",
              "  <svg xmlns=\"http://www.w3.org/2000/svg\" height=\"24px\"viewBox=\"0 0 24 24\"\n",
              "       width=\"24px\">\n",
              "    <path d=\"M0 0h24v24H0V0z\" fill=\"none\"/>\n",
              "    <path d=\"M18.56 5.44l.94 2.06.94-2.06 2.06-.94-2.06-.94-.94-2.06-.94 2.06-2.06.94zm-11 1L8.5 8.5l.94-2.06 2.06-.94-2.06-.94L8.5 2.5l-.94 2.06-2.06.94zm10 10l.94 2.06.94-2.06 2.06-.94-2.06-.94-.94-2.06-.94 2.06-2.06.94z\"/><path d=\"M17.41 7.96l-1.37-1.37c-.4-.4-.92-.59-1.43-.59-.52 0-1.04.2-1.43.59L10.3 9.45l-7.72 7.72c-.78.78-.78 2.05 0 2.83L4 21.41c.39.39.9.59 1.41.59.51 0 1.02-.2 1.41-.59l7.78-7.78 2.81-2.81c.8-.78.8-2.07 0-2.86zM5.41 20L4 18.59l7.72-7.72 1.47 1.35L5.41 20z\"/>\n",
              "  </svg>\n",
              "      </button>\n",
              "      \n",
              "  <style>\n",
              "    .colab-df-container {\n",
              "      display:flex;\n",
              "      flex-wrap:wrap;\n",
              "      gap: 12px;\n",
              "    }\n",
              "\n",
              "    .colab-df-convert {\n",
              "      background-color: #E8F0FE;\n",
              "      border: none;\n",
              "      border-radius: 50%;\n",
              "      cursor: pointer;\n",
              "      display: none;\n",
              "      fill: #1967D2;\n",
              "      height: 32px;\n",
              "      padding: 0 0 0 0;\n",
              "      width: 32px;\n",
              "    }\n",
              "\n",
              "    .colab-df-convert:hover {\n",
              "      background-color: #E2EBFA;\n",
              "      box-shadow: 0px 1px 2px rgba(60, 64, 67, 0.3), 0px 1px 3px 1px rgba(60, 64, 67, 0.15);\n",
              "      fill: #174EA6;\n",
              "    }\n",
              "\n",
              "    [theme=dark] .colab-df-convert {\n",
              "      background-color: #3B4455;\n",
              "      fill: #D2E3FC;\n",
              "    }\n",
              "\n",
              "    [theme=dark] .colab-df-convert:hover {\n",
              "      background-color: #434B5C;\n",
              "      box-shadow: 0px 1px 3px 1px rgba(0, 0, 0, 0.15);\n",
              "      filter: drop-shadow(0px 1px 2px rgba(0, 0, 0, 0.3));\n",
              "      fill: #FFFFFF;\n",
              "    }\n",
              "  </style>\n",
              "\n",
              "      <script>\n",
              "        const buttonEl =\n",
              "          document.querySelector('#df-94bf12eb-a846-4f2a-bc04-7f5e0c24e43e button.colab-df-convert');\n",
              "        buttonEl.style.display =\n",
              "          google.colab.kernel.accessAllowed ? 'block' : 'none';\n",
              "\n",
              "        async function convertToInteractive(key) {\n",
              "          const element = document.querySelector('#df-94bf12eb-a846-4f2a-bc04-7f5e0c24e43e');\n",
              "          const dataTable =\n",
              "            await google.colab.kernel.invokeFunction('convertToInteractive',\n",
              "                                                     [key], {});\n",
              "          if (!dataTable) return;\n",
              "\n",
              "          const docLinkHtml = 'Like what you see? Visit the ' +\n",
              "            '<a target=\"_blank\" href=https://colab.research.google.com/notebooks/data_table.ipynb>data table notebook</a>'\n",
              "            + ' to learn more about interactive tables.';\n",
              "          element.innerHTML = '';\n",
              "          dataTable['output_type'] = 'display_data';\n",
              "          await google.colab.output.renderOutput(dataTable, element);\n",
              "          const docLink = document.createElement('div');\n",
              "          docLink.innerHTML = docLinkHtml;\n",
              "          element.appendChild(docLink);\n",
              "        }\n",
              "      </script>\n",
              "    </div>\n",
              "  </div>\n",
              "  "
            ],
            "text/plain": [
              "           Data                 UPR           Fazenda  ...  Umidade   CF %   Data_2\n",
              "2932 2020-06-01               Butiá               RFC  ...  4.10000  76.31  06-2020\n",
              "639  2019-04-01         Mato Dentro            Komiya  ...  5.27000  78.97  04-2019\n",
              "2870 2020-06-01  Maringá Retangular              Alba  ...  4.63000  82.56  06-2020\n",
              "2331 2020-02-01             Maringá              Alba  ...  7.51000  74.28  02-2020\n",
              "3080 2020-07-01    Ribeirão da Ilha  Ribeirão da Ilha  ...  5.62000  74.90  07-2020\n",
              "1324 2019-07-01         Mato Dentro            Komiya  ...  4.92000  79.39  07-2019\n",
              "3644 2020-11-01  Maringá Retangular              Alba  ...  5.20951  81.58  11-2020\n",
              "1591 2019-09-01  Maringá Retangular              Alba  ...  3.95000  83.26  09-2019\n",
              "986  2019-06-01            Tamanduá          Tamanduá  ...  5.87000  80.14  06-2019\n",
              "3401 2020-10-01            Tamanduá             Fecho  ...  5.20000  75.95  10-2020\n",
              "\n",
              "[10 rows x 15 columns]"
            ]
          },
          "metadata": {},
          "execution_count": 28
        }
      ]
    },
    {
      "cell_type": "code",
      "source": [
        "#Removendo Data Original e Renomeando nova data no Tipo mês-ano\n",
        "df_clean.drop([\"Data\"], axis=1, inplace=True)\n",
        "rename_data = {'Data_2': 'Data'}\n",
        "df_clean = df_clean.rename(columns=rename_data)"
      ],
      "metadata": {
        "id": "2noL0ZY24IDm"
      },
      "execution_count": 29,
      "outputs": []
    },
    {
      "cell_type": "code",
      "source": [
        "# Transformando a data em index\n",
        "df_clean = df_clean.set_index('Data')"
      ],
      "metadata": {
        "id": "qKvtJyY25NNK"
      },
      "execution_count": 30,
      "outputs": []
    },
    {
      "cell_type": "code",
      "source": [
        "df_clean.head()"
      ],
      "metadata": {
        "colab": {
          "base_uri": "https://localhost:8080/",
          "height": 237
        },
        "id": "4md8B6o6ZWWe",
        "outputId": "09a4fa65-0084-4dbc-d3a8-5f61eb0f21e9"
      },
      "execution_count": 31,
      "outputs": [
        {
          "output_type": "execute_result",
          "data": {
            "text/html": [
              "\n",
              "  <div id=\"df-3708d5ee-18fa-4aab-bef2-52160b5b6996\">\n",
              "    <div class=\"colab-df-container\">\n",
              "      <div>\n",
              "<style scoped>\n",
              "    .dataframe tbody tr th:only-of-type {\n",
              "        vertical-align: middle;\n",
              "    }\n",
              "\n",
              "    .dataframe tbody tr th {\n",
              "        vertical-align: top;\n",
              "    }\n",
              "\n",
              "    .dataframe thead th {\n",
              "        text-align: right;\n",
              "    }\n",
              "</style>\n",
              "<table border=\"1\" class=\"dataframe\">\n",
              "  <thead>\n",
              "    <tr style=\"text-align: right;\">\n",
              "      <th></th>\n",
              "      <th>UPR</th>\n",
              "      <th>Fazenda</th>\n",
              "      <th>Espécie</th>\n",
              "      <th>Idade</th>\n",
              "      <th>Dias Secagem</th>\n",
              "      <th>Madeira</th>\n",
              "      <th>Tiço Enfornado</th>\n",
              "      <th>Tiço Gerado</th>\n",
              "      <th>Produção</th>\n",
              "      <th>Densidade</th>\n",
              "      <th>Finos</th>\n",
              "      <th>Umidade</th>\n",
              "      <th>CF %</th>\n",
              "    </tr>\n",
              "    <tr>\n",
              "      <th>Data</th>\n",
              "      <th></th>\n",
              "      <th></th>\n",
              "      <th></th>\n",
              "      <th></th>\n",
              "      <th></th>\n",
              "      <th></th>\n",
              "      <th></th>\n",
              "      <th></th>\n",
              "      <th></th>\n",
              "      <th></th>\n",
              "      <th></th>\n",
              "      <th></th>\n",
              "      <th></th>\n",
              "    </tr>\n",
              "  </thead>\n",
              "  <tbody>\n",
              "    <tr>\n",
              "      <th>01-2019</th>\n",
              "      <td>Maringá</td>\n",
              "      <td>Maringá II</td>\n",
              "      <td>Não Atribuído</td>\n",
              "      <td>10.66</td>\n",
              "      <td>161.0</td>\n",
              "      <td>476.83</td>\n",
              "      <td>56.1</td>\n",
              "      <td>65.29</td>\n",
              "      <td>61.91</td>\n",
              "      <td>268.82</td>\n",
              "      <td>10.57</td>\n",
              "      <td>5.05</td>\n",
              "      <td>78.03</td>\n",
              "    </tr>\n",
              "    <tr>\n",
              "      <th>01-2019</th>\n",
              "      <td>Maringá</td>\n",
              "      <td>Maringá II</td>\n",
              "      <td>Não Atribuído</td>\n",
              "      <td>10.66</td>\n",
              "      <td>162.0</td>\n",
              "      <td>483.2</td>\n",
              "      <td>55.4</td>\n",
              "      <td>63.71</td>\n",
              "      <td>61.68</td>\n",
              "      <td>268.82</td>\n",
              "      <td>10.57</td>\n",
              "      <td>5.05</td>\n",
              "      <td>78.03</td>\n",
              "    </tr>\n",
              "    <tr>\n",
              "      <th>01-2019</th>\n",
              "      <td>Maringá</td>\n",
              "      <td>Maringá II</td>\n",
              "      <td>Não Atribuído</td>\n",
              "      <td>10.66</td>\n",
              "      <td>163.0</td>\n",
              "      <td>487.6</td>\n",
              "      <td>53.5</td>\n",
              "      <td>60</td>\n",
              "      <td>60.39</td>\n",
              "      <td>268.82</td>\n",
              "      <td>10.57</td>\n",
              "      <td>5.05</td>\n",
              "      <td>78.03</td>\n",
              "    </tr>\n",
              "    <tr>\n",
              "      <th>01-2019</th>\n",
              "      <td>Maringá</td>\n",
              "      <td>Maringá II</td>\n",
              "      <td>Não Atribuído</td>\n",
              "      <td>10.66</td>\n",
              "      <td>166.0</td>\n",
              "      <td>460.27</td>\n",
              "      <td>44.69</td>\n",
              "      <td>46.34</td>\n",
              "      <td>56.49</td>\n",
              "      <td>268.82</td>\n",
              "      <td>10.57</td>\n",
              "      <td>5.05</td>\n",
              "      <td>78.03</td>\n",
              "    </tr>\n",
              "    <tr>\n",
              "      <th>01-2019</th>\n",
              "      <td>Maringá</td>\n",
              "      <td>Maringá II</td>\n",
              "      <td>Não Atribuído</td>\n",
              "      <td>10.66</td>\n",
              "      <td>167.0</td>\n",
              "      <td>477.35</td>\n",
              "      <td>58.71</td>\n",
              "      <td>66.08</td>\n",
              "      <td>60.00</td>\n",
              "      <td>268.82</td>\n",
              "      <td>10.57</td>\n",
              "      <td>5.05</td>\n",
              "      <td>78.03</td>\n",
              "    </tr>\n",
              "  </tbody>\n",
              "</table>\n",
              "</div>\n",
              "      <button class=\"colab-df-convert\" onclick=\"convertToInteractive('df-3708d5ee-18fa-4aab-bef2-52160b5b6996')\"\n",
              "              title=\"Convert this dataframe to an interactive table.\"\n",
              "              style=\"display:none;\">\n",
              "        \n",
              "  <svg xmlns=\"http://www.w3.org/2000/svg\" height=\"24px\"viewBox=\"0 0 24 24\"\n",
              "       width=\"24px\">\n",
              "    <path d=\"M0 0h24v24H0V0z\" fill=\"none\"/>\n",
              "    <path d=\"M18.56 5.44l.94 2.06.94-2.06 2.06-.94-2.06-.94-.94-2.06-.94 2.06-2.06.94zm-11 1L8.5 8.5l.94-2.06 2.06-.94-2.06-.94L8.5 2.5l-.94 2.06-2.06.94zm10 10l.94 2.06.94-2.06 2.06-.94-2.06-.94-.94-2.06-.94 2.06-2.06.94z\"/><path d=\"M17.41 7.96l-1.37-1.37c-.4-.4-.92-.59-1.43-.59-.52 0-1.04.2-1.43.59L10.3 9.45l-7.72 7.72c-.78.78-.78 2.05 0 2.83L4 21.41c.39.39.9.59 1.41.59.51 0 1.02-.2 1.41-.59l7.78-7.78 2.81-2.81c.8-.78.8-2.07 0-2.86zM5.41 20L4 18.59l7.72-7.72 1.47 1.35L5.41 20z\"/>\n",
              "  </svg>\n",
              "      </button>\n",
              "      \n",
              "  <style>\n",
              "    .colab-df-container {\n",
              "      display:flex;\n",
              "      flex-wrap:wrap;\n",
              "      gap: 12px;\n",
              "    }\n",
              "\n",
              "    .colab-df-convert {\n",
              "      background-color: #E8F0FE;\n",
              "      border: none;\n",
              "      border-radius: 50%;\n",
              "      cursor: pointer;\n",
              "      display: none;\n",
              "      fill: #1967D2;\n",
              "      height: 32px;\n",
              "      padding: 0 0 0 0;\n",
              "      width: 32px;\n",
              "    }\n",
              "\n",
              "    .colab-df-convert:hover {\n",
              "      background-color: #E2EBFA;\n",
              "      box-shadow: 0px 1px 2px rgba(60, 64, 67, 0.3), 0px 1px 3px 1px rgba(60, 64, 67, 0.15);\n",
              "      fill: #174EA6;\n",
              "    }\n",
              "\n",
              "    [theme=dark] .colab-df-convert {\n",
              "      background-color: #3B4455;\n",
              "      fill: #D2E3FC;\n",
              "    }\n",
              "\n",
              "    [theme=dark] .colab-df-convert:hover {\n",
              "      background-color: #434B5C;\n",
              "      box-shadow: 0px 1px 3px 1px rgba(0, 0, 0, 0.15);\n",
              "      filter: drop-shadow(0px 1px 2px rgba(0, 0, 0, 0.3));\n",
              "      fill: #FFFFFF;\n",
              "    }\n",
              "  </style>\n",
              "\n",
              "      <script>\n",
              "        const buttonEl =\n",
              "          document.querySelector('#df-3708d5ee-18fa-4aab-bef2-52160b5b6996 button.colab-df-convert');\n",
              "        buttonEl.style.display =\n",
              "          google.colab.kernel.accessAllowed ? 'block' : 'none';\n",
              "\n",
              "        async function convertToInteractive(key) {\n",
              "          const element = document.querySelector('#df-3708d5ee-18fa-4aab-bef2-52160b5b6996');\n",
              "          const dataTable =\n",
              "            await google.colab.kernel.invokeFunction('convertToInteractive',\n",
              "                                                     [key], {});\n",
              "          if (!dataTable) return;\n",
              "\n",
              "          const docLinkHtml = 'Like what you see? Visit the ' +\n",
              "            '<a target=\"_blank\" href=https://colab.research.google.com/notebooks/data_table.ipynb>data table notebook</a>'\n",
              "            + ' to learn more about interactive tables.';\n",
              "          element.innerHTML = '';\n",
              "          dataTable['output_type'] = 'display_data';\n",
              "          await google.colab.output.renderOutput(dataTable, element);\n",
              "          const docLink = document.createElement('div');\n",
              "          docLink.innerHTML = docLinkHtml;\n",
              "          element.appendChild(docLink);\n",
              "        }\n",
              "      </script>\n",
              "    </div>\n",
              "  </div>\n",
              "  "
            ],
            "text/plain": [
              "             UPR     Fazenda        Espécie  ...  Finos  Umidade   CF %\n",
              "Data                                         ...                       \n",
              "01-2019  Maringá  Maringá II  Não Atribuído  ...  10.57     5.05  78.03\n",
              "01-2019  Maringá  Maringá II  Não Atribuído  ...  10.57     5.05  78.03\n",
              "01-2019  Maringá  Maringá II  Não Atribuído  ...  10.57     5.05  78.03\n",
              "01-2019  Maringá  Maringá II  Não Atribuído  ...  10.57     5.05  78.03\n",
              "01-2019  Maringá  Maringá II  Não Atribuído  ...  10.57     5.05  78.03\n",
              "\n",
              "[5 rows x 13 columns]"
            ]
          },
          "metadata": {},
          "execution_count": 31
        }
      ]
    },
    {
      "cell_type": "markdown",
      "source": [
        "## Tratamento das entradas da variável `Idade`"
      ],
      "metadata": {
        "id": "lvsIft97j_X6"
      }
    },
    {
      "cell_type": "markdown",
      "source": [
        "Na variável idade, percebeu-se que existem valores vazios nas células, sendo assim foi realizado um laço com uma condição realizando a substituíção dos valores vazios por 0. Posteriormente os valores atribuídos 0 serão substituídos pela média."
      ],
      "metadata": {
        "id": "Sq7MWESxID3M"
      }
    },
    {
      "cell_type": "code",
      "source": [
        "for caracter in df_clean['Idade']:\n",
        "  if caracter == '  ':\n",
        "    print(caracter)\n",
        "    df_clean['Idade'].replace(caracter, 0, inplace=True)"
      ],
      "metadata": {
        "colab": {
          "base_uri": "https://localhost:8080/"
        },
        "id": "kcXektBNkEK0",
        "outputId": "14e47b40-ac68-4f27-d53e-95f8057a89a2"
      },
      "execution_count": 32,
      "outputs": [
        {
          "output_type": "stream",
          "name": "stdout",
          "text": [
            "  \n"
          ]
        }
      ]
    },
    {
      "cell_type": "markdown",
      "source": [
        "## Tratamento das entradas da variável `Madeira`"
      ],
      "metadata": {
        "id": "ojlj2jdkw1kB"
      }
    },
    {
      "cell_type": "code",
      "source": [
        "for caracter in df_clean['Madeira']:\n",
        "  if caracter == ' -   ':\n",
        "    print(caracter)\n",
        "    df_clean['Madeira'].replace(caracter, 0, inplace=True)"
      ],
      "metadata": {
        "colab": {
          "base_uri": "https://localhost:8080/"
        },
        "id": "wuPJ-qNeol8N",
        "outputId": "e7c9a9f0-0b5c-4bdb-a2f9-77fb5a6cb8dc"
      },
      "execution_count": 33,
      "outputs": [
        {
          "output_type": "stream",
          "name": "stdout",
          "text": [
            " -   \n"
          ]
        }
      ]
    },
    {
      "cell_type": "code",
      "source": [
        "for caracter in df_clean['Madeira']:\n",
        "  if caracter == ' -   ':\n",
        "    print(caracter)"
      ],
      "metadata": {
        "id": "gq5unWymz-AI"
      },
      "execution_count": 34,
      "outputs": []
    },
    {
      "cell_type": "markdown",
      "source": [
        "## Tratamento das entradas da variável `Tiço Enfornado`"
      ],
      "metadata": {
        "id": "OnBY3Hh20H5N"
      }
    },
    {
      "cell_type": "code",
      "source": [
        "for caracter in df_clean['Tiço Enfornado']:\n",
        "  if caracter == ' -   ':\n",
        "    print(caracter)\n",
        "    df_clean['Tiço Enfornado'].replace(caracter, 0, inplace=True)"
      ],
      "metadata": {
        "colab": {
          "base_uri": "https://localhost:8080/"
        },
        "id": "EEKdfM1UousQ",
        "outputId": "62596ab4-a8a8-4bd6-b4a6-ebd78270f0ca"
      },
      "execution_count": 35,
      "outputs": [
        {
          "output_type": "stream",
          "name": "stdout",
          "text": [
            " -   \n"
          ]
        }
      ]
    },
    {
      "cell_type": "code",
      "source": [
        "for caracter in df_clean['Tiço Enfornado']:\n",
        "  if caracter == ' -   ':\n",
        "    print(caracter)"
      ],
      "metadata": {
        "id": "aftgbVRV0juG"
      },
      "execution_count": 36,
      "outputs": []
    },
    {
      "cell_type": "markdown",
      "source": [
        "## Tratamento das entradas da variável `Tiço Gerado`"
      ],
      "metadata": {
        "id": "mGvtY5Lv0nKU"
      }
    },
    {
      "cell_type": "code",
      "source": [
        "for caracter in df_clean['Tiço Gerado']:\n",
        "  if caracter == ' -   ':\n",
        "    print(caracter)\n",
        "    df_clean['Tiço Gerado'].replace(caracter, 0, inplace=True)"
      ],
      "metadata": {
        "colab": {
          "base_uri": "https://localhost:8080/"
        },
        "id": "ZKqth7AAozly",
        "outputId": "5475220a-5ede-4d5a-be24-b88e0c9af099"
      },
      "execution_count": 37,
      "outputs": [
        {
          "output_type": "stream",
          "name": "stdout",
          "text": [
            " -   \n"
          ]
        }
      ]
    },
    {
      "cell_type": "code",
      "source": [
        "for caracter in df_clean['Tiço Gerado']:\n",
        "  if caracter == ' -   ':\n",
        "    print(caracter)"
      ],
      "metadata": {
        "id": "O0m2ERD305RY"
      },
      "execution_count": 38,
      "outputs": []
    },
    {
      "cell_type": "markdown",
      "source": [
        "## Substituindo os valores iguais a 0 para a média, nas variáveis: `Idade`, `Madeira`, `Tiço Enfornado` e Tiço Gerado"
      ],
      "metadata": {
        "id": "4XQGBQS-1_Yr"
      }
    },
    {
      "cell_type": "code",
      "source": [
        "# substituindo valores ausentes pela média de cada respectiva\n",
        "df_clean[['Idade','Madeira','Tiço Enfornado','Tiço Gerado']].fillna(df_clean[['Idade','Madeira','Tiço Enfornado','Tiço Gerado']].mean(), inplace=True)"
      ],
      "metadata": {
        "colab": {
          "base_uri": "https://localhost:8080/"
        },
        "id": "wFUBkzmO1LK2",
        "outputId": "a5183fe6-06fa-4a25-d3ae-07aa08dd06d7"
      },
      "execution_count": 39,
      "outputs": [
        {
          "output_type": "stream",
          "name": "stderr",
          "text": [
            "/usr/local/lib/python3.7/dist-packages/pandas/core/generic.py:6392: SettingWithCopyWarning: \n",
            "A value is trying to be set on a copy of a slice from a DataFrame\n",
            "\n",
            "See the caveats in the documentation: https://pandas.pydata.org/pandas-docs/stable/user_guide/indexing.html#returning-a-view-versus-a-copy\n",
            "  return self._update_inplace(result)\n"
          ]
        }
      ]
    },
    {
      "cell_type": "markdown",
      "source": [
        "# Extra - Simulador Simples\n",
        "\n",
        "De modo simples, foi criado um modelo básico de Regressão Linear para a porcentagem de Carbono Fixo, com base nas variáveis de entrada abaixo. O intuito do modelo possibilita pensar em criar um novo produto, ou seja, possuindo muito mais variáveis e análises estatísticas aprofundadas, pode-se obter um modelo mais robusto.\n",
        "\n",
        "O exemplo abaixo busca simular a quantidade de todas as variáveis envolvidas, com o objetivo de obter uma proporção ideal de carbono fixo."
      ],
      "metadata": {
        "id": "vWyDXePPzSV2"
      }
    },
    {
      "cell_type": "markdown",
      "source": [
        "### Convertendo as variáveis que seram utilizadas no simulador de %CF"
      ],
      "metadata": {
        "id": "a_pfIVA23-DT"
      }
    },
    {
      "cell_type": "code",
      "source": [
        "#Conversão object para float\n",
        "conversao_por_coluna = {\"Idade\": \"float64\",\n",
        "            \"Madeira\": \"float64\",\n",
        "            \"Tiço Enfornado\": \"float64\",\n",
        "            \"Tiço Gerado\": \"float64\",\n",
        "}\n",
        "  \n",
        "df_clean = df_clean.astype(conversao_por_coluna)"
      ],
      "metadata": {
        "id": "M_WfWP_m1LD-"
      },
      "execution_count": 40,
      "outputs": []
    },
    {
      "cell_type": "markdown",
      "source": [
        "### Comportamento da variável `CF %` em relação às variáveis explicativas."
      ],
      "metadata": {
        "id": "FL65qNQELD3W"
      }
    },
    {
      "cell_type": "code",
      "source": [
        "ax = sns.pairplot(df_clean, y_vars='CF %', x_vars=['Idade',\t'Dias Secagem',\t'Madeira',\t'Tiço Enfornado',\t'Tiço Gerado',\t'Produção',\t'Densidade',\t'Finos',\t'Umidade'], kind='reg')\n",
        "ax.fig.suptitle('Dispersão entre as Variáveis', fontsize=20, y=1.2);"
      ],
      "metadata": {
        "colab": {
          "base_uri": "https://localhost:8080/",
          "height": 240
        },
        "id": "wglT13tn1k9A",
        "outputId": "da0f9f70-59e4-490a-ccb6-f650c983aa1c"
      },
      "execution_count": 41,
      "outputs": [
        {
          "output_type": "display_data",
          "data": {
            "image/png": "[encoded data removed]",
            "text/plain": [
              "<Figure size 1620x180 with 9 Axes>"
            ]
          },
          "metadata": {
            "needs_background": "light"
          }
        }
      ]
    },
    {
      "cell_type": "markdown",
      "source": [
        "### Scikit Learn é uma biblioteca do Python voltado para modelos de machine learning. "
      ],
      "metadata": {
        "id": "hG5scz1qLyTo"
      }
    },
    {
      "cell_type": "code",
      "source": [
        "from sklearn.model_selection import train_test_split"
      ],
      "metadata": {
        "id": "rd3XSg2d8m45"
      },
      "execution_count": 42,
      "outputs": []
    },
    {
      "cell_type": "markdown",
      "source": [
        "Criando uma Series (pandas) para armazenar a % de Carbono Fixo (y)"
      ],
      "metadata": {
        "id": "K-I4hba4MIXY"
      }
    },
    {
      "cell_type": "code",
      "source": [
        "y = df_clean['CF %']\n",
        "y.shape"
      ],
      "metadata": {
        "colab": {
          "base_uri": "https://localhost:8080/"
        },
        "id": "KtzWwQ9a8m3J",
        "outputId": "3026c8b6-04d4-4384-b541-23fb04611cf6"
      },
      "execution_count": 43,
      "outputs": [
        {
          "output_type": "execute_result",
          "data": {
            "text/plain": [
              "(3731,)"
            ]
          },
          "metadata": {},
          "execution_count": 43
        }
      ]
    },
    {
      "cell_type": "markdown",
      "source": [
        "Criando um DataFrame (pandas) para armazenar as variáveis explicativas (X)"
      ],
      "metadata": {
        "id": "q9FEDnk9MTbd"
      }
    },
    {
      "cell_type": "code",
      "source": [
        "X = df_clean[['Idade',\t'Dias Secagem',\t'Madeira',\t'Tiço Enfornado',\t'Tiço Gerado',\t'Produção',\t'Densidade',\t'Finos',\t'Umidade']]\n",
        "X.shape"
      ],
      "metadata": {
        "colab": {
          "base_uri": "https://localhost:8080/"
        },
        "id": "kNFbYKlt9X6j",
        "outputId": "680ecec4-3f66-4394-aad7-efec5f4d9da5"
      },
      "execution_count": 44,
      "outputs": [
        {
          "output_type": "execute_result",
          "data": {
            "text/plain": [
              "(3731, 9)"
            ]
          },
          "metadata": {},
          "execution_count": 44
        }
      ]
    },
    {
      "cell_type": "markdown",
      "source": [
        "Criando os datasets de treino e de teste"
      ],
      "metadata": {
        "id": "nbIZlo3-Mc4J"
      }
    },
    {
      "cell_type": "code",
      "source": [
        "X_train, X_test, y_train, y_test = train_test_split(X, y, test_size=0.3, random_state=2811)"
      ],
      "metadata": {
        "id": "YJBXnBMJ9X4T"
      },
      "execution_count": 45,
      "outputs": []
    },
    {
      "cell_type": "markdown",
      "source": [
        "Verificação dos tamanhos dos arquivos gerados pela função train_test_split"
      ],
      "metadata": {
        "id": "LW4zMg4IM00F"
      }
    },
    {
      "cell_type": "code",
      "source": [
        "y_train.shape"
      ],
      "metadata": {
        "colab": {
          "base_uri": "https://localhost:8080/"
        },
        "id": "A5bOPyMb9X2S",
        "outputId": "f2e9b640-f9ae-4ba3-bd66-db524b2246fb"
      },
      "execution_count": 46,
      "outputs": [
        {
          "output_type": "execute_result",
          "data": {
            "text/plain": [
              "(2611,)"
            ]
          },
          "metadata": {},
          "execution_count": 46
        }
      ]
    },
    {
      "cell_type": "code",
      "source": [
        "X_train.shape"
      ],
      "metadata": {
        "colab": {
          "base_uri": "https://localhost:8080/"
        },
        "id": "2rQE9Vi09X0D",
        "outputId": "2d7e8c20-93df-401b-cce0-88a8433f0156"
      },
      "execution_count": 47,
      "outputs": [
        {
          "output_type": "execute_result",
          "data": {
            "text/plain": [
              "(2611, 9)"
            ]
          },
          "metadata": {},
          "execution_count": 47
        }
      ]
    },
    {
      "cell_type": "code",
      "source": [
        "X_test.shape"
      ],
      "metadata": {
        "colab": {
          "base_uri": "https://localhost:8080/"
        },
        "id": "5PZ5IVPE9Xx6",
        "outputId": "d7e3c265-ae24-4f40-9a03-97edc9ac5c1b"
      },
      "execution_count": 48,
      "outputs": [
        {
          "output_type": "execute_result",
          "data": {
            "text/plain": [
              "(1120, 9)"
            ]
          },
          "metadata": {},
          "execution_count": 48
        }
      ]
    },
    {
      "cell_type": "code",
      "source": [
        "X_train.shape[0] + X_test.shape[0]"
      ],
      "metadata": {
        "colab": {
          "base_uri": "https://localhost:8080/"
        },
        "id": "DqnwKNyT8m0z",
        "outputId": "a665fda4-3f37-490b-9aca-c93067c997c5"
      },
      "execution_count": 49,
      "outputs": [
        {
          "output_type": "execute_result",
          "data": {
            "text/plain": [
              "3731"
            ]
          },
          "metadata": {},
          "execution_count": 49
        }
      ]
    },
    {
      "cell_type": "markdown",
      "source": [
        "Importando LinearRegression e metrics da biblioteca scikit-learn"
      ],
      "metadata": {
        "id": "rjH2q9FcM-ru"
      }
    },
    {
      "cell_type": "code",
      "source": [
        "from sklearn.linear_model import LinearRegression\n",
        "from sklearn import metrics"
      ],
      "metadata": {
        "id": "LUCXXrH98mwY"
      },
      "execution_count": 50,
      "outputs": []
    },
    {
      "cell_type": "markdown",
      "source": [
        "Instanciando a classe LinearRegression()"
      ],
      "metadata": {
        "id": "7g8m5lzCNJjb"
      }
    },
    {
      "cell_type": "code",
      "source": [
        "model = LinearRegression()"
      ],
      "metadata": {
        "id": "cgH80T-a8muX"
      },
      "execution_count": 51,
      "outputs": []
    },
    {
      "cell_type": "markdown",
      "source": [
        "Utilizando o método fit() do objeto \"modelo\" para estimar nosso modelo linear utilizando os dados de TREINO (y_train e X_train)"
      ],
      "metadata": {
        "id": "Mw4Lz1WaNNuL"
      }
    },
    {
      "cell_type": "code",
      "source": [
        "model.fit(X_train, y_train)"
      ],
      "metadata": {
        "colab": {
          "base_uri": "https://localhost:8080/"
        },
        "id": "4WjtrOZ-9Hv0",
        "outputId": "32749f3d-705f-4f55-89f3-42acf4888372"
      },
      "execution_count": 52,
      "outputs": [
        {
          "output_type": "execute_result",
          "data": {
            "text/plain": [
              "LinearRegression()"
            ]
          },
          "metadata": {},
          "execution_count": 52
        }
      ]
    },
    {
      "cell_type": "markdown",
      "source": [
        "Obtendo o coeficiente de determinação (R²) do modelo estimado com os dados de TREINO\n",
        "\n",
        "O coeficiente de determinação (R²) é uma medida resumida que diz quanto a linha de regressão ajusta-se aos dados. É um valor entra 0 e 1."
      ],
      "metadata": {
        "id": "tWauuwQbNQ2N"
      }
    },
    {
      "cell_type": "code",
      "source": [
        "print('R² = {}'.format(model.score(X_train, y_train).round(1)))"
      ],
      "metadata": {
        "colab": {
          "base_uri": "https://localhost:8080/"
        },
        "id": "U5-KujUq9Ht2",
        "outputId": "ddfa8a4e-9152-4e16-e656-819c51917b3e"
      },
      "execution_count": 53,
      "outputs": [
        {
          "output_type": "stream",
          "name": "stdout",
          "text": [
            "R² = 0.1\n"
          ]
        }
      ]
    },
    {
      "cell_type": "markdown",
      "source": [
        "Gerando previsões para os dados de TESTE (X_test) utilizando o método predict() do objeto \"modelo\""
      ],
      "metadata": {
        "id": "PEOLH46JNk__"
      }
    },
    {
      "cell_type": "code",
      "source": [
        "y_pred = model.predict(X_test)"
      ],
      "metadata": {
        "id": "PDd6bjyU9Hrn"
      },
      "execution_count": 54,
      "outputs": []
    },
    {
      "cell_type": "markdown",
      "source": [
        "Obtendo o coeficiente de determinação (R²) para as previsões do nosso modelo"
      ],
      "metadata": {
        "id": "oylUpSOINzR6"
      }
    },
    {
      "cell_type": "code",
      "source": [
        "print('R² = %s' % metrics.r2_score(y_test, y_pred).round(1))"
      ],
      "metadata": {
        "colab": {
          "base_uri": "https://localhost:8080/"
        },
        "id": "l20Dwfe3NsYs",
        "outputId": "a7a00abf-8031-4b3a-cc33-a9389e1aeeec"
      },
      "execution_count": 55,
      "outputs": [
        {
          "output_type": "stream",
          "name": "stdout",
          "text": [
            "R² = 0.1\n"
          ]
        }
      ]
    },
    {
      "cell_type": "markdown",
      "source": [
        "Obtendo Previsões Pontuais"
      ],
      "metadata": {
        "id": "l7tKu54YOKsz"
      }
    },
    {
      "cell_type": "code",
      "source": [
        "#Dados de entrada\n",
        "entrada = X_test[0:1]\n",
        "entrada"
      ],
      "metadata": {
        "colab": {
          "base_uri": "https://localhost:8080/",
          "height": 112
        },
        "id": "9-kmvYyy9Hpb",
        "outputId": "d7cc1e76-32c2-40f2-fa9b-8c62e7c32abe"
      },
      "execution_count": 56,
      "outputs": [
        {
          "output_type": "execute_result",
          "data": {
            "text/html": [
              "\n",
              "  <div id=\"df-2443e292-44cf-401f-a6eb-566ff5da2ff5\">\n",
              "    <div class=\"colab-df-container\">\n",
              "      <div>\n",
              "<style scoped>\n",
              "    .dataframe tbody tr th:only-of-type {\n",
              "        vertical-align: middle;\n",
              "    }\n",
              "\n",
              "    .dataframe tbody tr th {\n",
              "        vertical-align: top;\n",
              "    }\n",
              "\n",
              "    .dataframe thead th {\n",
              "        text-align: right;\n",
              "    }\n",
              "</style>\n",
              "<table border=\"1\" class=\"dataframe\">\n",
              "  <thead>\n",
              "    <tr style=\"text-align: right;\">\n",
              "      <th></th>\n",
              "      <th>Idade</th>\n",
              "      <th>Dias Secagem</th>\n",
              "      <th>Madeira</th>\n",
              "      <th>Tiço Enfornado</th>\n",
              "      <th>Tiço Gerado</th>\n",
              "      <th>Produção</th>\n",
              "      <th>Densidade</th>\n",
              "      <th>Finos</th>\n",
              "      <th>Umidade</th>\n",
              "    </tr>\n",
              "    <tr>\n",
              "      <th>Data</th>\n",
              "      <th></th>\n",
              "      <th></th>\n",
              "      <th></th>\n",
              "      <th></th>\n",
              "      <th></th>\n",
              "      <th></th>\n",
              "      <th></th>\n",
              "      <th></th>\n",
              "      <th></th>\n",
              "    </tr>\n",
              "  </thead>\n",
              "  <tbody>\n",
              "    <tr>\n",
              "      <th>06-2019</th>\n",
              "      <td>9.44</td>\n",
              "      <td>128.0</td>\n",
              "      <td>35.2</td>\n",
              "      <td>4.31</td>\n",
              "      <td>3.76</td>\n",
              "      <td>4.29</td>\n",
              "      <td>261.9</td>\n",
              "      <td>11.06</td>\n",
              "      <td>5.87</td>\n",
              "    </tr>\n",
              "  </tbody>\n",
              "</table>\n",
              "</div>\n",
              "      <button class=\"colab-df-convert\" onclick=\"convertToInteractive('df-2443e292-44cf-401f-a6eb-566ff5da2ff5')\"\n",
              "              title=\"Convert this dataframe to an interactive table.\"\n",
              "              style=\"display:none;\">\n",
              "        \n",
              "  <svg xmlns=\"http://www.w3.org/2000/svg\" height=\"24px\"viewBox=\"0 0 24 24\"\n",
              "       width=\"24px\">\n",
              "    <path d=\"M0 0h24v24H0V0z\" fill=\"none\"/>\n",
              "    <path d=\"M18.56 5.44l.94 2.06.94-2.06 2.06-.94-2.06-.94-.94-2.06-.94 2.06-2.06.94zm-11 1L8.5 8.5l.94-2.06 2.06-.94-2.06-.94L8.5 2.5l-.94 2.06-2.06.94zm10 10l.94 2.06.94-2.06 2.06-.94-2.06-.94-.94-2.06-.94 2.06-2.06.94z\"/><path d=\"M17.41 7.96l-1.37-1.37c-.4-.4-.92-.59-1.43-.59-.52 0-1.04.2-1.43.59L10.3 9.45l-7.72 7.72c-.78.78-.78 2.05 0 2.83L4 21.41c.39.39.9.59 1.41.59.51 0 1.02-.2 1.41-.59l7.78-7.78 2.81-2.81c.8-.78.8-2.07 0-2.86zM5.41 20L4 18.59l7.72-7.72 1.47 1.35L5.41 20z\"/>\n",
              "  </svg>\n",
              "      </button>\n",
              "      \n",
              "  <style>\n",
              "    .colab-df-container {\n",
              "      display:flex;\n",
              "      flex-wrap:wrap;\n",
              "      gap: 12px;\n",
              "    }\n",
              "\n",
              "    .colab-df-convert {\n",
              "      background-color: #E8F0FE;\n",
              "      border: none;\n",
              "      border-radius: 50%;\n",
              "      cursor: pointer;\n",
              "      display: none;\n",
              "      fill: #1967D2;\n",
              "      height: 32px;\n",
              "      padding: 0 0 0 0;\n",
              "      width: 32px;\n",
              "    }\n",
              "\n",
              "    .colab-df-convert:hover {\n",
              "      background-color: #E2EBFA;\n",
              "      box-shadow: 0px 1px 2px rgba(60, 64, 67, 0.3), 0px 1px 3px 1px rgba(60, 64, 67, 0.15);\n",
              "      fill: #174EA6;\n",
              "    }\n",
              "\n",
              "    [theme=dark] .colab-df-convert {\n",
              "      background-color: #3B4455;\n",
              "      fill: #D2E3FC;\n",
              "    }\n",
              "\n",
              "    [theme=dark] .colab-df-convert:hover {\n",
              "      background-color: #434B5C;\n",
              "      box-shadow: 0px 1px 3px 1px rgba(0, 0, 0, 0.15);\n",
              "      filter: drop-shadow(0px 1px 2px rgba(0, 0, 0, 0.3));\n",
              "      fill: #FFFFFF;\n",
              "    }\n",
              "  </style>\n",
              "\n",
              "      <script>\n",
              "        const buttonEl =\n",
              "          document.querySelector('#df-2443e292-44cf-401f-a6eb-566ff5da2ff5 button.colab-df-convert');\n",
              "        buttonEl.style.display =\n",
              "          google.colab.kernel.accessAllowed ? 'block' : 'none';\n",
              "\n",
              "        async function convertToInteractive(key) {\n",
              "          const element = document.querySelector('#df-2443e292-44cf-401f-a6eb-566ff5da2ff5');\n",
              "          const dataTable =\n",
              "            await google.colab.kernel.invokeFunction('convertToInteractive',\n",
              "                                                     [key], {});\n",
              "          if (!dataTable) return;\n",
              "\n",
              "          const docLinkHtml = 'Like what you see? Visit the ' +\n",
              "            '<a target=\"_blank\" href=https://colab.research.google.com/notebooks/data_table.ipynb>data table notebook</a>'\n",
              "            + ' to learn more about interactive tables.';\n",
              "          element.innerHTML = '';\n",
              "          dataTable['output_type'] = 'display_data';\n",
              "          await google.colab.output.renderOutput(dataTable, element);\n",
              "          const docLink = document.createElement('div');\n",
              "          docLink.innerHTML = docLinkHtml;\n",
              "          element.appendChild(docLink);\n",
              "        }\n",
              "      </script>\n",
              "    </div>\n",
              "  </div>\n",
              "  "
            ],
            "text/plain": [
              "         Idade  Dias Secagem  Madeira  ...  Densidade  Finos  Umidade\n",
              "Data                                   ...                           \n",
              "06-2019   9.44         128.0     35.2  ...      261.9  11.06     5.87\n",
              "\n",
              "[1 rows x 9 columns]"
            ]
          },
          "metadata": {},
          "execution_count": 56
        }
      ]
    },
    {
      "cell_type": "markdown",
      "source": [
        "Gerando previsão pontual"
      ],
      "metadata": {
        "id": "PBtMpmteOSym"
      }
    },
    {
      "cell_type": "code",
      "source": [
        "model.predict(entrada)[0]"
      ],
      "metadata": {
        "colab": {
          "base_uri": "https://localhost:8080/"
        },
        "id": "9eBMi8S69HnM",
        "outputId": "acd20e82-50fb-4d88-fe08-fa81d0921c7e"
      },
      "execution_count": 57,
      "outputs": [
        {
          "output_type": "execute_result",
          "data": {
            "text/plain": [
              "78.16912818451097"
            ]
          },
          "metadata": {},
          "execution_count": 57
        }
      ]
    },
    {
      "cell_type": "markdown",
      "source": [
        "Criando um simulador simples"
      ],
      "metadata": {
        "id": "QahfjAC1OWFA"
      }
    },
    {
      "cell_type": "code",
      "source": [
        "#Simulador Simples\n",
        "Idade=9.44\n",
        "Dias_secagem=128.0\n",
        "Madeira=35.2\n",
        "Tiço_Enfornado=4.31\n",
        "Tiço_Gerado=3.76\n",
        "Produção=4.29\n",
        "Densidade=261.9\n",
        "Finos=11.06\n",
        "Umidade=5.87\n",
        "\n",
        "entrada=[[Idade, Dias_secagem, Madeira, Tiço_Enfornado, Tiço_Gerado, Produção, Densidade, Finos, Umidade]]\n",
        "print('{} %CF'.format(model.predict(entrada)[0]))"
      ],
      "metadata": {
        "colab": {
          "base_uri": "https://localhost:8080/"
        },
        "id": "zYgbodwX9Hk8",
        "outputId": "c3aa4759-3d08-424a-d2ff-50f65a5f8faa"
      },
      "execution_count": 58,
      "outputs": [
        {
          "output_type": "stream",
          "name": "stdout",
          "text": [
            "78.16912818451097 %CF\n"
          ]
        },
        {
          "output_type": "stream",
          "name": "stderr",
          "text": [
            "/usr/local/lib/python3.7/dist-packages/sklearn/base.py:451: UserWarning: X does not have valid feature names, but LinearRegression was fitted with feature names\n",
            "  \"X does not have valid feature names, but\"\n"
          ]
        }
      ]
    },
    {
      "cell_type": "code",
      "source": [
        "Idade=100\n",
        "Dias_secagem=50\n",
        "Madeira=40\n",
        "Tiço_Enfornado=10\n",
        "Tiço_Gerado=3.76\n",
        "Produção=4.29\n",
        "Densidade=261.9\n",
        "Finos=11.06\n",
        "Umidade=5.87\n",
        "\n",
        "entrada=[[Idade, Dias_secagem, Madeira, Tiço_Enfornado, Tiço_Gerado, Produção, Densidade, Finos, Umidade]]\n",
        "print('{} %CF'.format(model.predict(entrada)[0]))"
      ],
      "metadata": {
        "colab": {
          "base_uri": "https://localhost:8080/"
        },
        "id": "DVLLhhx4Owqu",
        "outputId": "6ae0a717-a047-4105-e87f-d866c9957aa4"
      },
      "execution_count": 59,
      "outputs": [
        {
          "output_type": "stream",
          "name": "stdout",
          "text": [
            "71.32301301481893 %CF\n"
          ]
        },
        {
          "output_type": "stream",
          "name": "stderr",
          "text": [
            "/usr/local/lib/python3.7/dist-packages/sklearn/base.py:451: UserWarning: X does not have valid feature names, but LinearRegression was fitted with feature names\n",
            "  \"X does not have valid feature names, but\"\n"
          ]
        }
      ]
    }
  ]
}